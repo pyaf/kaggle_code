{
 "cells": [
  {
   "cell_type": "code",
   "execution_count": 1,
   "metadata": {},
   "outputs": [
    {
     "name": "stderr",
     "output_type": "stream",
     "text": [
      "Using TensorFlow backend.\n"
     ]
    }
   ],
   "source": [
    "import tensorflow as tf\n",
    "config = tf.ConfigProto()\n",
    "config.gpu_options.allow_growth = True\n",
    "config.gpu_options.per_process_gpu_memory_fraction = 0.25\n",
    "tf.Session(config=config)\n",
    "\n",
    "import keras\n",
    "from keras.models import *\n",
    "from keras.layers import *\n",
    "from keras import optimizers\n",
    "from keras.applications.resnet50 import ResNet50\n",
    "from keras.applications.vgg16 import VGG16\n",
    "from keras.applications.inception_v3 import InceptionV3\n",
    "from keras.preprocessing.image import *\n",
    "from keras.backend import tf as ktf\n",
    "from keras.callbacks import EarlyStopping\n",
    "from tqdm import tqdm\n",
    "\n",
    "import numpy as np\n",
    "import pandas as pd\n",
    "from IPython.display import clear_output\n",
    "\n",
    "import matplotlib.pyplot as plt\n",
    "import matplotlib.cm as cm\n",
    "import matplotlib.image as mpimg\n",
    "from sklearn.model_selection import train_test_split\n",
    "import csv\n",
    "import os\n",
    "from PIL import Image\n",
    "%matplotlib inline\n",
    "from jupyterthemes import jtplot\n",
    "\n",
    "jtplot.style()"
   ]
  },
  {
   "cell_type": "code",
   "execution_count": 2,
   "metadata": {},
   "outputs": [
    {
     "name": "stdout",
     "output_type": "stream",
     "text": [
      "Found 4750 images belonging to 12 classes.\n"
     ]
    }
   ],
   "source": [
    "train_datagen = ImageDataGenerator(\n",
    "        rescale=1./255,\n",
    "        shear_range=0.2,\n",
    "        zoom_range=0.2,\n",
    "        horizontal_flip=True)\n",
    "\n",
    "train_generator = train_datagen.flow_from_directory(\n",
    "        'train',\n",
    "        target_size=(224, 224),\n",
    "        class_mode='categorical'\n",
    ")"
   ]
  },
  {
   "cell_type": "code",
   "execution_count": 2,
   "metadata": {},
   "outputs": [
    {
     "data": {
      "text/plain": [
       "((4750, 224, 224, 3), (4750, 12), (794, 224, 224, 3))"
      ]
     },
     "execution_count": 2,
     "metadata": {},
     "output_type": "execute_result"
    }
   ],
   "source": [
    "# X_train = np.load('data/preprocessed/X_train_woseg.npy')\n",
    "# Y_train = np.load('data/preprocessed/Y_train_woseg.npy')\n",
    "# X_test = np.load('data/preprocessed/X_test_woseg.npy')\n",
    "X_train = np.load('data/preprocessed/X_train.npy')\n",
    "Y_train = np.load('data/preprocessed/Y_train.npy')\n",
    "X_test = np.load('data/preprocessed/X_test.npy')\n",
    "\n",
    "X_train.shape, Y_train.shape, X_test.shape"
   ]
  },
  {
   "cell_type": "code",
   "execution_count": 17,
   "metadata": {
    "collapsed": true
   },
   "outputs": [],
   "source": [
    "X_train /= 255\n",
    "X_test /= 255"
   ]
  },
  {
   "cell_type": "code",
   "execution_count": 3,
   "metadata": {
    "collapsed": true
   },
   "outputs": [],
   "source": [
    "#shuffle the data\n",
    "idx = np.random.permutation(len(X_train))\n",
    "X_train,Y_train = X_train[idx], Y_train[idx]"
   ]
  },
  {
   "cell_type": "markdown",
   "metadata": {
    "heading_collapsed": true
   },
   "source": [
    "#### Utility functions"
   ]
  },
  {
   "cell_type": "code",
   "execution_count": 4,
   "metadata": {
    "collapsed": true,
    "hidden": true
   },
   "outputs": [],
   "source": [
    "def plot_training(history):\n",
    "    acc = history.history['acc']\n",
    "    val_acc = history.history['val_acc']\n",
    "    loss = history.history['loss']\n",
    "    val_loss = history.history['val_loss']\n",
    "    epochs = range(len(acc))\n",
    "    plt.figure(figsize=(10, 5))\n",
    "    plt.subplot(1, 2, 1,)\n",
    "    plt.plot(epochs, acc)\n",
    "    plt.plot(epochs, val_acc)\n",
    "    plt.legend(['train', 'val'], loc='upper left')\n",
    "    plt.title(' accuracy')\n",
    "\n",
    "\n",
    "    plt.subplot(1, 2, 2)\n",
    "    \n",
    "    plt.plot(epochs, loss)\n",
    "    plt.plot(epochs, val_loss)\n",
    "    plt.legend(['train', 'val'], loc='upper left')\n",
    "    plt.title('loss')\n",
    "    plt.show()"
   ]
  },
  {
   "cell_type": "markdown",
   "metadata": {},
   "source": [
    "### CNNs"
   ]
  },
  {
   "cell_type": "code",
   "execution_count": 22,
   "metadata": {
    "collapsed": true
   },
   "outputs": [],
   "source": [
    "def seqModel():\n",
    "    model = Sequential()\n",
    "    \n",
    "    model.add(Conv2D(16, (3, 3), input_shape=(224, 224, 3)))\n",
    "    model.add(BatchNormalization(axis = 3))\n",
    "    model.add(Activation('relu'))\n",
    "    model.add(MaxPooling2D(pool_size=(2, 2)))\n",
    "#     model.add(Dropout(0.2))\n",
    "\n",
    "    model.add(Conv2D(16, (3, 3)))\n",
    "    model.add(BatchNormalization(axis = 3))\n",
    "    model.add(Activation('relu'))\n",
    "    model.add(MaxPooling2D(pool_size=(2, 2)))\n",
    "#     model.add(Dropout(0.2))\n",
    "\n",
    "    model.add(Conv2D(32, (3, 3)))\n",
    "    model.add(BatchNormalization(axis = 3))\n",
    "    model.add(Activation('relu'))\n",
    "    model.add(MaxPooling2D(pool_size=(2, 2)))\n",
    "#     model.add(Dropout(0.2))\n",
    "\n",
    "    model.add(Conv2D(32, (3, 3)))\n",
    "#     model.add(BatchNormalization(axis = 3))\n",
    "    model.add(Activation('relu'))\n",
    "    model.add(MaxPooling2D(pool_size=(2, 2)))\n",
    "    \n",
    "    model.add(Flatten())  # this converts our 3D feature maps to 1D feature vectors\n",
    "#     model.add(GlobalMaxPooling2D())\n",
    "    model.add(Dense(1024))\n",
    "    model.add(Activation('relu'))\n",
    "    model.add(BatchNormalization())\n",
    "    \n",
    "    model.add(Dropout(0.2))\n",
    "    model.add(Dense(1024))\n",
    "    model.add(Activation('relu'))\n",
    "#     model.add(BatchNormalization())\n",
    "    \n",
    "    model.add(Dropout(0.2))\n",
    "    \n",
    "    model.add(Dense(12))\n",
    "    model.add(Activation('softmax'))\n",
    "\n",
    "    model.compile(loss='categorical_crossentropy',\n",
    "                  optimizer='adam',\n",
    "                  metrics=['accuracy'])\n",
    "    return model"
   ]
  },
  {
   "cell_type": "code",
   "execution_count": 23,
   "metadata": {},
   "outputs": [],
   "source": [
    "cnnmodel = seqModel()"
   ]
  },
  {
   "cell_type": "code",
   "execution_count": 24,
   "metadata": {},
   "outputs": [
    {
     "name": "stdout",
     "output_type": "stream",
     "text": [
      "Train on 3800 samples, validate on 950 samples\n",
      "Epoch 1/20\n",
      "3800/3800 [==============================] - 38s 10ms/step - loss: 1.5718 - acc: 0.5237 - val_loss: 2.0379 - val_acc: 0.5221\n",
      "Epoch 2/20\n",
      "3800/3800 [==============================] - 34s 9ms/step - loss: 0.8191 - acc: 0.7279 - val_loss: 2.0875 - val_acc: 0.5347\n",
      "Epoch 3/20\n",
      "3800/3800 [==============================] - 34s 9ms/step - loss: 0.5321 - acc: 0.8124 - val_loss: 2.6792 - val_acc: 0.5011\n",
      "Epoch 4/20\n",
      "3800/3800 [==============================] - 34s 9ms/step - loss: 0.3763 - acc: 0.8711 - val_loss: 1.6597 - val_acc: 0.5663\n",
      "Epoch 5/20\n",
      "3800/3800 [==============================] - 35s 9ms/step - loss: 0.2876 - acc: 0.8987 - val_loss: 1.5708 - val_acc: 0.6558\n",
      "Epoch 6/20\n",
      "3800/3800 [==============================] - 35s 9ms/step - loss: 0.2047 - acc: 0.9311 - val_loss: 1.3723 - val_acc: 0.6453\n",
      "Epoch 7/20\n",
      "3800/3800 [==============================] - 35s 9ms/step - loss: 0.1828 - acc: 0.9345 - val_loss: 1.7486 - val_acc: 0.7116\n",
      "Epoch 8/20\n",
      "3800/3800 [==============================] - 35s 9ms/step - loss: 0.1766 - acc: 0.9397 - val_loss: 3.1052 - val_acc: 0.4874\n",
      "Epoch 9/20\n",
      "3800/3800 [==============================] - 36s 10ms/step - loss: 0.1186 - acc: 0.9595 - val_loss: 1.5674 - val_acc: 0.6842\n",
      "Epoch 00009: early stopping\n"
     ]
    }
   ],
   "source": [
    "cnnmodel_history = cnnmodel.fit(X_train, Y_train, batch_size=30, epochs=20, validation_split=0.2, shuffle=True,\n",
    "             callbacks=[EarlyStopping(monitor='val_loss', patience=3, verbose=1)])"
   ]
  },
  {
   "cell_type": "code",
   "execution_count": 11,
   "metadata": {},
   "outputs": [
    {
     "data": {
      "image/png": "[encoded data removed]",
      "text/plain": [
       "<matplotlib.figure.Figure at 0x7f4ee43ba240>"
      ]
     },
     "metadata": {},
     "output_type": "display_data"
    }
   ],
   "source": [
    "plot_training(cnnmodel_history)"
   ]
  },
  {
   "cell_type": "markdown",
   "metadata": {},
   "source": [
    "## Transfer Learning"
   ]
  },
  {
   "cell_type": "code",
   "execution_count": 10,
   "metadata": {
    "collapsed": true
   },
   "outputs": [],
   "source": [
    "inception_model = InceptionV3(input_tensor=Input((224, 224, 3)), weights='imagenet', include_top=False)"
   ]
  },
  {
   "cell_type": "code",
   "execution_count": 11,
   "metadata": {},
   "outputs": [
    {
     "name": "stdout",
     "output_type": "stream",
     "text": [
      "4750/4750 [==============================] - 33s 7ms/step\n",
      "794/794 [==============================] - 6s 7ms/step\n"
     ]
    }
   ],
   "source": [
    "inc_train_bf = inception_model.predict(X_train, verbose=1)\n",
    "inc_test_bf = inception_model.predict(X_test, verbose=1)"
   ]
  },
  {
   "cell_type": "code",
   "execution_count": 69,
   "metadata": {
    "collapsed": true
   },
   "outputs": [],
   "source": [
    "def top_model(input_shape):\n",
    "    input_img = Input(input_shape)\n",
    "    X = GlobalAveragePooling2D()(input_img)\n",
    "#     X = Flatten(input_shape=input_shape)(input_img)\n",
    "#     X = Dropout(0.5)(X)   \n",
    "    \n",
    "    X = Dense(128, activation='relu')(X)\n",
    "    X = Dropout(0.5)(X)\n",
    "    \n",
    "#     X = Dense(1024, activation='relu')(X)\n",
    "#     X = Dropout(0.5)(X)\n",
    "        \n",
    "    X = Dense(12, activation='softmax')(X)\n",
    "    \n",
    "    model = Model(inputs=input_img, outputs=X)\n",
    "    \n",
    "    model.compile(loss='categorical_crossentropy',\n",
    "                 optimizer='adam',#optimizers.SGD(lr=1e-4, momentum=0.9),#'adam',\n",
    "                 metrics=['accuracy'])\n",
    "    \n",
    "    return model"
   ]
  },
  {
   "cell_type": "code",
   "execution_count": 70,
   "metadata": {
    "collapsed": true
   },
   "outputs": [],
   "source": [
    "inctop_model = top_model(inc_train_bf.shape[1:])"
   ]
  },
  {
   "cell_type": "code",
   "execution_count": 71,
   "metadata": {},
   "outputs": [
    {
     "name": "stdout",
     "output_type": "stream",
     "text": [
      "Train on 3800 samples, validate on 950 samples\n",
      "Epoch 1/50\n",
      "3800/3800 [==============================] - 7s 2ms/step - loss: 3.2595 - acc: 0.1971 - val_loss: 2.0739 - val_acc: 0.3032\n",
      "Epoch 2/50\n",
      "3800/3800 [==============================] - 1s 271us/step - loss: 2.1271 - acc: 0.2716 - val_loss: 1.8776 - val_acc: 0.3474\n",
      "Epoch 3/50\n",
      "3800/3800 [==============================] - 1s 274us/step - loss: 2.0325 - acc: 0.3018 - val_loss: 1.7933 - val_acc: 0.3779\n",
      "Epoch 4/50\n",
      "3800/3800 [==============================] - 1s 282us/step - loss: 1.9379 - acc: 0.3171 - val_loss: 1.6942 - val_acc: 0.3895\n",
      "Epoch 5/50\n",
      "3800/3800 [==============================] - 1s 277us/step - loss: 1.8746 - acc: 0.3324 - val_loss: 1.6951 - val_acc: 0.4147\n",
      "Epoch 6/50\n",
      "3800/3800 [==============================] - 1s 281us/step - loss: 1.8614 - acc: 0.3271 - val_loss: 1.6222 - val_acc: 0.4537\n",
      "Epoch 7/50\n",
      "3800/3800 [==============================] - 1s 275us/step - loss: 1.8178 - acc: 0.3463 - val_loss: 1.5434 - val_acc: 0.5021\n",
      "Epoch 8/50\n",
      "3800/3800 [==============================] - 1s 279us/step - loss: 1.7588 - acc: 0.3611 - val_loss: 1.5175 - val_acc: 0.5011\n",
      "Epoch 9/50\n",
      "3800/3800 [==============================] - 1s 280us/step - loss: 1.7579 - acc: 0.3566 - val_loss: 1.5127 - val_acc: 0.4811\n",
      "Epoch 10/50\n",
      "3800/3800 [==============================] - 1s 272us/step - loss: 1.7038 - acc: 0.3697 - val_loss: 1.5201 - val_acc: 0.5200\n",
      "Epoch 11/50\n",
      "3800/3800 [==============================] - 1s 275us/step - loss: 1.6938 - acc: 0.3745 - val_loss: 1.4636 - val_acc: 0.5063\n",
      "Epoch 12/50\n",
      "3800/3800 [==============================] - 1s 276us/step - loss: 1.6855 - acc: 0.3753 - val_loss: 1.4530 - val_acc: 0.5389\n",
      "Epoch 13/50\n",
      "3800/3800 [==============================] - 1s 275us/step - loss: 1.6946 - acc: 0.3718 - val_loss: 1.4989 - val_acc: 0.5084\n",
      "Epoch 14/50\n",
      "3800/3800 [==============================] - 1s 270us/step - loss: 1.6870 - acc: 0.3818 - val_loss: 1.4487 - val_acc: 0.5453\n",
      "Epoch 15/50\n",
      "3800/3800 [==============================] - 1s 281us/step - loss: 1.6190 - acc: 0.3874 - val_loss: 1.3775 - val_acc: 0.5526\n",
      "Epoch 16/50\n",
      "3800/3800 [==============================] - 1s 271us/step - loss: 1.6284 - acc: 0.4016 - val_loss: 1.4150 - val_acc: 0.5358\n",
      "Epoch 17/50\n",
      "3800/3800 [==============================] - 1s 266us/step - loss: 1.6049 - acc: 0.4005 - val_loss: 1.3474 - val_acc: 0.5684\n",
      "Epoch 18/50\n",
      "3800/3800 [==============================] - 1s 265us/step - loss: 1.5862 - acc: 0.4139 - val_loss: 1.3628 - val_acc: 0.5537\n",
      "Epoch 19/50\n",
      "3800/3800 [==============================] - 1s 271us/step - loss: 1.5976 - acc: 0.4016 - val_loss: 1.4081 - val_acc: 0.5589\n",
      "Epoch 20/50\n",
      "3800/3800 [==============================] - 1s 270us/step - loss: 1.5786 - acc: 0.4053 - val_loss: 1.3425 - val_acc: 0.5526\n",
      "Epoch 00020: early stopping\n"
     ]
    }
   ],
   "source": [
    "inc_history = inctop_model.fit(inc_train_bf, Y_train, batch_size=100, epochs=50, validation_split=0.2,\n",
    "             callbacks=[EarlyStopping(monitor='val_acc', patience=3, verbose=1)])"
   ]
  },
  {
   "cell_type": "code",
   "execution_count": 56,
   "metadata": {},
   "outputs": [
    {
     "data": {
      "image/png": "[encoded data removed]",
      "text/plain": [
       "<matplotlib.figure.Figure at 0x7f41afbf2208>"
      ]
     },
     "metadata": {},
     "output_type": "display_data"
    }
   ],
   "source": [
    "plot_training(inc_history)"
   ]
  },
  {
   "cell_type": "markdown",
   "metadata": {},
   "source": [
    "### Prediction "
   ]
  },
  {
   "cell_type": "code",
   "execution_count": 31,
   "metadata": {
    "collapsed": true
   },
   "outputs": [],
   "source": [
    "test = pd.read_csv('sample_submission.csv')"
   ]
  },
  {
   "cell_type": "code",
   "execution_count": 33,
   "metadata": {
    "collapsed": true
   },
   "outputs": [],
   "source": [
    "categories = ['Black-grass', 'Charlock', 'Cleavers', 'Common Chickweed', 'Common wheat', 'Fat Hen', 'Loose Silky-bent', 'Maize', 'Scentless Mayweed', 'Shepherds Purse', 'Small-flowered Cranesbill', 'Sugar beet']"
   ]
  },
  {
   "cell_type": "code",
   "execution_count": 64,
   "metadata": {},
   "outputs": [
    {
     "name": "stdout",
     "output_type": "stream",
     "text": [
      "794/794 [==============================] - 3s 3ms/step\n"
     ]
    }
   ],
   "source": [
    "# preds = cnnmodel.predict(X_test, verbose=1, batch_size=5)\n",
    "preds = inctop_model.predict(inc_test_bf, verbose=1, batch_size=50)\n",
    "\n",
    "sub = pd.DataFrame(test)\n",
    "sub['species'] = np.argmax(preds, axis=1)\n",
    "sub['species'] = sub['species'].apply(lambda x: categories[x])\n",
    "sub.to_csv('sub.csv', index=False)"
   ]
  }
 ],
 "metadata": {
  "kernelspec": {
   "display_name": "Python [conda env:ML]",
   "language": "python",
   "name": "conda-env-ML-py"
  },
  "language_info": {
   "codemirror_mode": {
    "name": "ipython",
    "version": 3
   },
   "file_extension": ".py",
   "mimetype": "text/x-python",
   "name": "python",
   "nbconvert_exporter": "python",
   "pygments_lexer": "ipython3",
   "version": "3.5.4"
  }
 },
 "nbformat": 4,
 "nbformat_minor": 2
}
