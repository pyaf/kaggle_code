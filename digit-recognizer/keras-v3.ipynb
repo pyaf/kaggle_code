{
 "cells": [
  {
   "cell_type": "code",
   "execution_count": 1,
   "metadata": {},
   "outputs": [
    {
     "name": "stderr",
     "output_type": "stream",
     "text": [
      "Using TensorFlow backend.\n"
     ]
    }
   ],
   "source": [
    "import tensorflow as tf\n",
    "config = tf.ConfigProto()\n",
    "config.gpu_options.allow_growth = True\n",
    "sess = tf.Session(config=config)\n",
    "\n",
    "import keras\n",
    "from keras.models import *\n",
    "from keras.layers import *\n",
    "from keras.optimizers import *\n",
    "from keras.applications.resnet50 import ResNet50\n",
    "from keras.applications.vgg16 import VGG16\n",
    "from keras.applications.inception_v3 import InceptionV3\n",
    "from keras.preprocessing.image import *\n",
    "from keras.backend import tf as ktf\n",
    "from keras.callbacks import EarlyStopping\n",
    "from tqdm import tqdm\n",
    "\n",
    "from keras.datasets import mnist\n",
    "import numpy as np\n",
    "import pandas as pd\n",
    "\n",
    "import matplotlib.pyplot as plt\n",
    "import matplotlib.cm as cm\n",
    "from sklearn.model_selection import train_test_split\n",
    "import csv\n",
    "%matplotlib inline"
   ]
  },
  {
   "cell_type": "code",
   "execution_count": 103,
   "metadata": {
    "collapsed": true
   },
   "outputs": [],
   "source": [
    "model.save_weights('models/bn+do+da.h5')"
   ]
  },
  {
   "cell_type": "code",
   "execution_count": 2,
   "metadata": {},
   "outputs": [
    {
     "name": "stdout",
     "output_type": "stream",
     "text": [
      "(31500, 785) (10500, 785)\n",
      "(31500, 28, 28, 1) (31500, 10)\n",
      "(10500, 28, 28, 1) (10500, 10)\n",
      "(28000, 28, 28, 1)\n"
     ]
    }
   ],
   "source": [
    "data = pd.read_csv('train.csv')\n",
    "train, dev = train_test_split(data, test_size=0.25,random_state=0, stratify=data['label'])\n",
    "\n",
    "Y_train = train.iloc[:, 0].as_matrix()\n",
    "Y_train = np.eye(10, dtype='float32')[Y_train] \n",
    "#it's imp to specify dtype, as default is float64, but placeholder expects float32.\n",
    "X_train = train.iloc[:,1:].as_matrix().astype('float32')\n",
    "Y_dev = dev.iloc[:, 0].as_matrix()\n",
    "Y_dev = np.eye(10, dtype='float32')[Y_dev]\n",
    "X_dev = dev.iloc[:,1:].as_matrix().astype('float32')\n",
    "X_test = pd.read_csv('test.csv').as_matrix().astype('float32')\n",
    "\n",
    "X_train = X_train.reshape(X_train.shape[0], 28, 28, 1)\n",
    "X_test = X_test.reshape(X_test.shape[0], 28, 28, 1)\n",
    "X_dev = X_dev.reshape(X_dev.shape[0], 28, 28, 1)\n",
    "\n",
    "\n",
    "\n",
    "print(train.shape, dev.shape)\n",
    "print(X_train.shape, Y_train.shape)\n",
    "print(X_dev.shape, Y_dev.shape)\n",
    "print(X_test.shape)"
   ]
  },
  {
   "cell_type": "code",
   "execution_count": null,
   "metadata": {
    "collapsed": true
   },
   "outputs": [],
   "source": [
    "# X_test = np.multiply(X_test, 1.0/255.0)\n",
    "# X_train = np.multiply(X_train, 1.0/255.0)\n",
    "# X_dev = np.multiply(X_dev, 1.0/255.0)"
   ]
  },
  {
   "cell_type": "code",
   "execution_count": 3,
   "metadata": {
    "collapsed": true
   },
   "outputs": [],
   "source": [
    "batch_size = 64\n",
    "input_shape = (28, 28, 1)"
   ]
  },
  {
   "cell_type": "code",
   "execution_count": 4,
   "metadata": {
    "collapsed": true
   },
   "outputs": [],
   "source": [
    "gen = ImageDataGenerator(\n",
    "        rotation_range=8,\n",
    "        width_shift_range=0.08,\n",
    "        shear_range=0.3,\n",
    "        height_shift_range=0.08,\n",
    "        zoom_range=0.08)\n",
    "\n",
    "train_gen = gen.flow(X_train, Y_train, batch_size=batch_size)\n",
    "dev_gen = gen.flow(X_dev, Y_dev, batch_size=batch_size)"
   ]
  },
  {
   "cell_type": "code",
   "execution_count": 5,
   "metadata": {
    "collapsed": true
   },
   "outputs": [],
   "source": [
    "mean_px = X_train.mean().astype(np.float32)\n",
    "std_px = X_train.std().astype(np.float32)\n",
    "def norm_input(x): return (x-mean_px)/std_px"
   ]
  },
  {
   "cell_type": "code",
   "execution_count": 6,
   "metadata": {
    "collapsed": true
   },
   "outputs": [],
   "source": [
    "def plot_training(history):\n",
    "    acc = history.history['acc']\n",
    "    val_acc = history.history['val_acc']\n",
    "    loss = history.history['loss']\n",
    "    val_loss = history.history['val_loss']\n",
    "    epochs = range(len(acc))\n",
    "    plt.figure(figsize=(10, 5))\n",
    "    plt.subplot(1, 2, 1,)\n",
    "    plt.plot(epochs, acc)\n",
    "    plt.plot(epochs, val_acc)\n",
    "    plt.legend(['train', 'val'], loc='upper left')\n",
    "    plt.title(' accuracy')\n",
    "\n",
    "\n",
    "    plt.subplot(1, 2, 2)\n",
    "    \n",
    "    plt.plot(epochs, loss)\n",
    "    plt.plot(epochs, val_loss)\n",
    "    plt.legend(['train', 'val'], loc='upper left')\n",
    "    plt.title('loss')\n",
    "    plt.show()"
   ]
  },
  {
   "cell_type": "code",
   "execution_count": 26,
   "metadata": {
    "collapsed": true
   },
   "outputs": [],
   "source": [
    "def getModel():\n",
    "    model = Sequential()\n",
    "    model.add(Lambda(norm_input, input_shape=input_shape))\n",
    "    \n",
    "    model.add(Conv2D(32, (3, 3)))\n",
    "    model.add(BatchNormalization(axis=-1))\n",
    "    model.add(Activation('relu'))\n",
    "    model.add(Conv2D(32, (3, 3)))\n",
    "    model.add(BatchNormalization(axis=-1))\n",
    "    model.add(Activation('relu'))\n",
    "    model.add(MaxPooling2D())\n",
    "\n",
    "    model.add(Conv2D(64, (3, 3)))\n",
    "    model.add(BatchNormalization(axis=-1))\n",
    "    model.add(Activation('relu'))\n",
    "    model.add(Conv2D(64, (3, 3)))\n",
    "    model.add(BatchNormalization(axis=-1))\n",
    "    model.add(Activation('relu'))\n",
    "    model.add(MaxPooling2D())\n",
    "\n",
    "    model.add(Flatten())\n",
    "    model.add(Dense(512))\n",
    "    model.add(BatchNormalization())\n",
    "    model.add(Activation('relu'))\n",
    "    model.add(Dropout(0.2))\n",
    "\n",
    "    model.add(Dense(10, activation='softmax'))\n",
    "\n",
    "    model.compile(loss='categorical_crossentropy', optimizer=Adam(), metrics=['accuracy'])\n",
    "    \n",
    "    return model"
   ]
  },
  {
   "cell_type": "code",
   "execution_count": 27,
   "metadata": {
    "collapsed": true
   },
   "outputs": [],
   "source": [
    "model = getModel()"
   ]
  },
  {
   "cell_type": "code",
   "execution_count": 28,
   "metadata": {},
   "outputs": [
    {
     "name": "stdout",
     "output_type": "stream",
     "text": [
      "Epoch 1/1\n",
      "31500/31500 [==============================] - 1534s 49ms/step - loss: 0.0287 - acc: 0.9907 - val_loss: 0.0298 - val_acc: 0.9923\n"
     ]
    }
   ],
   "source": [
    "history1 = model.fit_generator(train_gen, steps_per_epoch=train_gen.n, epochs=1, validation_data=dev_gen, validation_steps=dev_gen.n)"
   ]
  },
  {
   "cell_type": "code",
   "execution_count": 29,
   "metadata": {
    "collapsed": true
   },
   "outputs": [],
   "source": [
    "model.optimizer.lr=0.1"
   ]
  },
  {
   "cell_type": "code",
   "execution_count": 30,
   "metadata": {},
   "outputs": [
    {
     "name": "stdout",
     "output_type": "stream",
     "text": [
      "Epoch 1/4\n",
      "31500/31500 [==============================] - 1550s 49ms/step - loss: 0.0102 - acc: 0.9966 - val_loss: 0.0353 - val_acc: 0.9924\n",
      "Epoch 2/4\n",
      "31500/31500 [==============================] - 1534s 49ms/step - loss: 0.0071 - acc: 0.9976 - val_loss: 0.0301 - val_acc: 0.9936\n",
      "Epoch 3/4\n",
      "31500/31500 [==============================] - 1536s 49ms/step - loss: 0.0059 - acc: 0.9981 - val_loss: 0.0371 - val_acc: 0.9928\n",
      "Epoch 4/4\n",
      "31500/31500 [==============================] - 1529s 49ms/step - loss: 0.0050 - acc: 0.9984 - val_loss: 0.0367 - val_acc: 0.9931\n"
     ]
    }
   ],
   "source": [
    "history2 = model.fit_generator(train_gen, steps_per_epoch=train_gen.n, epochs=4, validation_data=dev_gen, validation_steps=dev_gen.n)"
   ]
  },
  {
   "cell_type": "code",
   "execution_count": 35,
   "metadata": {},
   "outputs": [
    {
     "data": {
      "image/png": "[encoded data removed]",
      "text/plain": [
       "<matplotlib.figure.Figure at 0x7f9a08369da0>"
      ]
     },
     "metadata": {},
     "output_type": "display_data"
    }
   ],
   "source": [
    "plot_training(history2)"
   ]
  },
  {
   "cell_type": "code",
   "execution_count": 36,
   "metadata": {
    "collapsed": true
   },
   "outputs": [],
   "source": [
    "model.optimizer.lr=0.01"
   ]
  },
  {
   "cell_type": "code",
   "execution_count": null,
   "metadata": {},
   "outputs": [
    {
     "name": "stdout",
     "output_type": "stream",
     "text": [
      "Epoch 1/12\n",
      "31499/31500 [============================>.] - ETA: 0s - loss: 0.0041 - acc: 0.9987"
     ]
    }
   ],
   "source": [
    "history3 = model.fit_generator(train_gen, steps_per_epoch=train_gen.n, epochs=12, validation_data=dev_gen, validation_steps=dev_gen.n)"
   ]
  },
  {
   "cell_type": "code",
   "execution_count": 2,
   "metadata": {},
   "outputs": [
    {
     "ename": "NameError",
     "evalue": "name 'plot_training' is not defined",
     "output_type": "error",
     "traceback": [
      "\u001b[0;31m---------------------------------------------------------------------------\u001b[0m",
      "\u001b[0;31mNameError\u001b[0m                                 Traceback (most recent call last)",
      "\u001b[0;32m<ipython-input-2-e0c38011fc1a>\u001b[0m in \u001b[0;36m<module>\u001b[0;34m()\u001b[0m\n\u001b[0;32m----> 1\u001b[0;31m \u001b[0mplot_training\u001b[0m\u001b[0;34m(\u001b[0m\u001b[0mhistory3\u001b[0m\u001b[0;34m)\u001b[0m\u001b[0;34m\u001b[0m\u001b[0m\n\u001b[0m",
      "\u001b[0;31mNameError\u001b[0m: name 'plot_training' is not defined"
     ]
    }
   ],
   "source": [
    "plot_training(history3)"
   ]
  },
  {
   "cell_type": "code",
   "execution_count": null,
   "metadata": {
    "collapsed": true
   },
   "outputs": [],
   "source": [
    "model.optimizer.lr=0.001"
   ]
  },
  {
   "cell_type": "code",
   "execution_count": null,
   "metadata": {
    "collapsed": true
   },
   "outputs": [],
   "source": [
    "history4 = model.fit_generator(train_gen, steps_per_epoch=train_gen.n, epochs=1, validation_data=dev_gen, validation_steps=dev_gen.n)"
   ]
  },
  {
   "cell_type": "code",
   "execution_count": 103,
   "metadata": {
    "collapsed": true
   },
   "outputs": [],
   "source": [
    "# model.save_weights('models/bn+do+da.h5')"
   ]
  },
  {
   "cell_type": "code",
   "execution_count": 19,
   "metadata": {
    "collapsed": true
   },
   "outputs": [],
   "source": [
    "Y_predicted = np.argmax(model.predict(X_test), axis=1)"
   ]
  },
  {
   "cell_type": "code",
   "execution_count": 24,
   "metadata": {
    "collapsed": true
   },
   "outputs": [],
   "source": [
    "pred = pd.read_csv('sample_submission.csv')\n",
    "pred['Label'] = Y_predicted\n",
    "pred.to_csv('submission-cnn-keras-v3.csv', index=False)"
   ]
  },
  {
   "cell_type": "markdown",
   "metadata": {
    "heading_collapsed": true
   },
   "source": [
    "## Training on whole training dataset for final submission"
   ]
  },
  {
   "cell_type": "code",
   "execution_count": 109,
   "metadata": {
    "hidden": true
   },
   "outputs": [
    {
     "name": "stdout",
     "output_type": "stream",
     "text": [
      "(42000, 28, 28, 1) (42000, 10)\n"
     ]
    }
   ],
   "source": [
    "Y_data = data.iloc[:, 0].as_matrix()\n",
    "Y_data = np.eye(10, dtype='float32')[Y_data] \n",
    "X_data = data.iloc[:,1:].as_matrix().astype('float32')\n",
    "X_data = X_data.reshape(X_data.shape[0], 28, 28, 1)\n",
    "print(X_data.shape, Y_data.shape)"
   ]
  },
  {
   "cell_type": "code",
   "execution_count": 121,
   "metadata": {
    "collapsed": true,
    "hidden": true
   },
   "outputs": [],
   "source": [
    "data_gen = gen.flow(X_data, Y_data, batch_size=32) #once I used batch_size=8, ended up with poor acc of .97"
   ]
  },
  {
   "cell_type": "code",
   "execution_count": 122,
   "metadata": {
    "collapsed": true,
    "hidden": true
   },
   "outputs": [],
   "source": [
    "model = getModel()"
   ]
  },
  {
   "cell_type": "code",
   "execution_count": 115,
   "metadata": {
    "collapsed": true,
    "hidden": true
   },
   "outputs": [],
   "source": [
    "# model.load_weights('models/bn+do+da.h5')"
   ]
  },
  {
   "cell_type": "code",
   "execution_count": 123,
   "metadata": {
    "hidden": true
   },
   "outputs": [
    {
     "name": "stdout",
     "output_type": "stream",
     "text": [
      "Epoch 1/1\n",
      "31500/31500 [==============================] - 992s 31ms/step - loss: 0.0687 - acc: 0.9791\n"
     ]
    }
   ],
   "source": [
    "history5 = model.fit_generator(data_gen, steps_per_epoch=train_gen.n, epochs=1)"
   ]
  },
  {
   "cell_type": "code",
   "execution_count": 124,
   "metadata": {
    "collapsed": true,
    "hidden": true
   },
   "outputs": [],
   "source": [
    "model.optimizer.lr=0.1"
   ]
  },
  {
   "cell_type": "code",
   "execution_count": 125,
   "metadata": {
    "hidden": true
   },
   "outputs": [
    {
     "name": "stdout",
     "output_type": "stream",
     "text": [
      "Epoch 1/4\n",
      "31500/31500 [==============================] - 931s 30ms/step - loss: 0.0304 - acc: 0.9906\n",
      "Epoch 2/4\n",
      "31500/31500 [==============================] - 745s 24ms/step - loss: 0.0236 - acc: 0.9926\n",
      "Epoch 3/4\n",
      "31500/31500 [==============================] - 669s 21ms/step - loss: 0.0196 - acc: 0.9939\n",
      "Epoch 4/4\n",
      "31500/31500 [==============================] - 639s 20ms/step - loss: 0.0172 - acc: 0.9947\n"
     ]
    }
   ],
   "source": [
    "history5 = model.fit_generator(data_gen, steps_per_epoch=train_gen.n, epochs=4)"
   ]
  },
  {
   "cell_type": "code",
   "execution_count": 126,
   "metadata": {
    "collapsed": true,
    "hidden": true
   },
   "outputs": [],
   "source": [
    "model.optimizer.lr=0.01"
   ]
  },
  {
   "cell_type": "code",
   "execution_count": 127,
   "metadata": {
    "hidden": true
   },
   "outputs": [
    {
     "name": "stdout",
     "output_type": "stream",
     "text": [
      "Epoch 1/12\n",
      "31500/31500 [==============================] - 635s 20ms/step - loss: 0.0158 - acc: 0.9951\n",
      "Epoch 2/12\n",
      "31500/31500 [==============================] - 636s 20ms/step - loss: 0.0145 - acc: 0.9955\n",
      "Epoch 3/12\n",
      "31500/31500 [==============================] - 655s 21ms/step - loss: 0.0135 - acc: 0.9958\n",
      "Epoch 4/12\n",
      "31500/31500 [==============================] - 635s 20ms/step - loss: 0.0129 - acc: 0.9960\n",
      "Epoch 5/12\n",
      "31500/31500 [==============================] - 632s 20ms/step - loss: 0.0120 - acc: 0.9962\n",
      "Epoch 6/12\n",
      "31500/31500 [==============================] - 636s 20ms/step - loss: 0.0118 - acc: 0.9964\n",
      "Epoch 7/12\n",
      "31500/31500 [==============================] - 627s 20ms/step - loss: 0.0112 - acc: 0.9965\n",
      "Epoch 8/12\n",
      "31500/31500 [==============================] - 671s 21ms/step - loss: 0.0109 - acc: 0.9966\n",
      "Epoch 9/12\n",
      "31500/31500 [==============================] - 691s 22ms/step - loss: 0.0107 - acc: 0.9967\n",
      "Epoch 10/12\n",
      "31500/31500 [==============================] - 691s 22ms/step - loss: 0.0100 - acc: 0.9970\n",
      "Epoch 11/12\n",
      "31500/31500 [==============================] - 682s 22ms/step - loss: 0.0098 - acc: 0.9969\n",
      "Epoch 12/12\n",
      "31500/31500 [==============================] - 688s 22ms/step - loss: 0.0098 - acc: 0.9970\n"
     ]
    }
   ],
   "source": [
    "history6 = model.fit_generator(data_gen, steps_per_epoch=train_gen.n, epochs=12)"
   ]
  },
  {
   "cell_type": "code",
   "execution_count": 128,
   "metadata": {
    "collapsed": true,
    "hidden": true
   },
   "outputs": [],
   "source": [
    "model.optimizer.lr=0.001"
   ]
  },
  {
   "cell_type": "code",
   "execution_count": 129,
   "metadata": {
    "hidden": true
   },
   "outputs": [
    {
     "name": "stdout",
     "output_type": "stream",
     "text": [
      "Epoch 1/1\n",
      "31500/31500 [==============================] - 682s 22ms/step - loss: 0.0094 - acc: 0.9971\n"
     ]
    }
   ],
   "source": [
    "history7 = model.fit_generator(data_gen, steps_per_epoch=train_gen.n, epochs=1)"
   ]
  },
  {
   "cell_type": "code",
   "execution_count": 132,
   "metadata": {
    "hidden": true
   },
   "outputs": [
    {
     "name": "stdout",
     "output_type": "stream",
     "text": [
      "28000/28000 [==============================] - 4s 152us/step\n"
     ]
    }
   ],
   "source": [
    "Y_predicted = model.predict(X_test, verbose=1)"
   ]
  },
  {
   "cell_type": "code",
   "execution_count": 142,
   "metadata": {
    "collapsed": true,
    "hidden": true
   },
   "outputs": [],
   "source": [
    "pred = pd.read_csv('sample_submission.csv')\n",
    "pred['Label'] = np.argmax(Y_predicted, axis=1)\n",
    "pred.to_csv('submission-cnn-keras-v2.csv', index=False)"
   ]
  }
 ],
 "metadata": {
  "kernelspec": {
   "display_name": "Python [conda env:ML]",
   "language": "python",
   "name": "conda-env-ML-py"
  },
  "language_info": {
   "codemirror_mode": {
    "name": "ipython",
    "version": 3
   },
   "file_extension": ".py",
   "mimetype": "text/x-python",
   "name": "python",
   "nbconvert_exporter": "python",
   "pygments_lexer": "ipython3",
   "version": "3.5.4"
  }
 },
 "nbformat": 4,
 "nbformat_minor": 2
}
