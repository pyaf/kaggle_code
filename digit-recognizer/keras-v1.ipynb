{
 "cells": [
  {
   "cell_type": "code",
   "execution_count": 1,
   "metadata": {
    "collapsed": true
   },
   "outputs": [],
   "source": [
    "import tensorflow as tf\n",
    "config = tf.ConfigProto()\n",
    "config.gpu_options.allow_growth = True\n",
    "sess = tf.Session(config=config)\n",
    "\n",
    "import keras\n",
    "from keras.models import Sequential\n",
    "from keras.layers import Dense, Dropout, Flatten\n",
    "from keras.layers import Conv2D, MaxPooling2D\n",
    "from keras.datasets import mnist\n",
    "import numpy as np\n",
    "import pandas as pd\n",
    "\n",
    "import matplotlib.pyplot as plt\n",
    "import matplotlib.cm as cm\n",
    "from sklearn.model_selection import train_test_split\n",
    "import csv\n",
    "%matplotlib inline"
   ]
  },
  {
   "cell_type": "code",
   "execution_count": 3,
   "metadata": {},
   "outputs": [
    {
     "name": "stdout",
     "output_type": "stream",
     "text": [
      "(31500, 785) (10500, 785)\n",
      "(31500, 28, 28, 1) (31500, 10)\n",
      "(10500, 28, 28, 1) (10500, 10)\n",
      "(28000, 28, 28, 1)\n"
     ]
    }
   ],
   "source": [
    "data = pd.read_csv('train.csv')\n",
    "train, dev = train_test_split(data, test_size=0.25,random_state=0, stratify=data['label'])\n",
    "\n",
    "Y_train = train.iloc[:, 0].as_matrix()\n",
    "Y_train = np.eye(10, dtype='float32')[Y_train] \n",
    "#it's imp to specify dtype, as default is float64, but placeholder expects float32.\n",
    "X_train = train.iloc[:,1:].as_matrix().astype('float32')\n",
    "Y_dev = dev.iloc[:, 0].as_matrix()\n",
    "Y_dev = np.eye(10, dtype='float32')[Y_dev]\n",
    "X_dev = dev.iloc[:,1:].as_matrix().astype('float32')\n",
    "X_test = pd.read_csv('test.csv').as_matrix().astype('float32')\n",
    "\n",
    "X_train = X_train.reshape(X_train.shape[0], 28, 28, 1)\n",
    "X_test = X_test.reshape(X_test.shape[0], 28, 28, 1)\n",
    "X_dev = X_dev.reshape(X_dev.shape[0], 28, 28, 1)\n",
    "\n",
    "X_test = np.multiply(X_test, 1.0/255.0)\n",
    "X_train = np.multiply(X_train, 1.0/255.0)\n",
    "X_dev = np.multiply(X_dev, 1.0/255.0)\n",
    "\n",
    "print(train.shape, dev.shape)\n",
    "print(X_train.shape, Y_train.shape)\n",
    "print(X_dev.shape, Y_dev.shape)\n",
    "print(X_test.shape)"
   ]
  },
  {
   "cell_type": "code",
   "execution_count": 3,
   "metadata": {
    "collapsed": true
   },
   "outputs": [],
   "source": [
    "batch_size = 1000\n",
    "num_classes = 10\n",
    "epochs = 15\n",
    "\n",
    "# input image dimensions\n",
    "img_rows, img_cols = 28, 28\n",
    "input_shape = (img_rows, img_cols, 1)"
   ]
  },
  {
   "cell_type": "code",
   "execution_count": 4,
   "metadata": {
    "collapsed": true
   },
   "outputs": [],
   "source": [
    "# (x_train, y_train), (x_test, y_test) = mnist.load_data()\n",
    "# x_train.shape, x_test.shape\n",
    "# x_train = x_train.reshape(x_train.shape[0], img_rows, img_cols, 1)\n",
    "# x_test = x_test.reshape(x_test.shape[0], img_rows, img_cols, 1)\n",
    "# x_train = x_train.astype('float32')\n",
    "# x_test = x_test.astype('float32')\n",
    "# x_train /= 255\n",
    "# x_test /= 255\n",
    "# print('x_train shape:', x_train.shape)\n",
    "# print(x_train.shape[0], 'train samples')\n",
    "# print(x_test.shape[0], 'test samples')\n",
    "# plt.imshow(x_train[10232].reshape(28,28), cmap=cm.binary)\n",
    "# y_train = keras.utils.to_categorical(y_train, num_classes)\n",
    "# y_test = keras.utils.to_categorical(y_test, num_classes)\n",
    "# y_train.shape, y_test.shape"
   ]
  },
  {
   "cell_type": "code",
   "execution_count": 13,
   "metadata": {
    "collapsed": true
   },
   "outputs": [],
   "source": [
    "model = Sequential()\n",
    "model.add(Conv2D(32, kernel_size=(5, 5),\n",
    "                activation='relu',\n",
    "                input_shape=input_shape))\n",
    "model.add(MaxPooling2D(pool_size=(2, 2)))\n",
    "model.add(Conv2D(64, (5, 5), activation='relu'))\n",
    "model.add(MaxPooling2D(pool_size=(2,2)))\n",
    "model.add(Dropout(0.25))\n",
    "model.add(Flatten())\n",
    "model.add(Dense(1024, activation='relu'))\n",
    "model.add(Dropout(0.5))\n",
    "model.add(Dense(num_classes, activation='softmax'))\n",
    "\n",
    "model.compile(loss=keras.losses.categorical_crossentropy,\n",
    "             optimizer=keras.optimizers.Adam(),\n",
    "             metrics=['accuracy'])"
   ]
  },
  {
   "cell_type": "code",
   "execution_count": 14,
   "metadata": {
    "collapsed": true
   },
   "outputs": [],
   "source": [
    "# model.fit(x_train, y_train,\n",
    "#          batch_size=batch_size,\n",
    "#          epochs=epochs,\n",
    "#          verbose=1,\n",
    "#          validation_data=(x_test, y_test))\n",
    "\n",
    "# score = model.evaluate(x_test, y_test, verbose=0)\n",
    "# print('Test loss:', score[0])\n",
    "# print('Test accuracy:', score[1])"
   ]
  },
  {
   "cell_type": "code",
   "execution_count": 16,
   "metadata": {
    "collapsed": true
   },
   "outputs": [],
   "source": [
    "# model.reset_states()\n",
    "# keras.backend.clear_session() #destroyes current graph\n",
    "# sess = tf.Session(config=config)"
   ]
  },
  {
   "cell_type": "code",
   "execution_count": 17,
   "metadata": {},
   "outputs": [
    {
     "name": "stdout",
     "output_type": "stream",
     "text": [
      "Train on 31500 samples, validate on 10500 samples\n",
      "Epoch 1/30\n",
      "31500/31500 [==============================] - 59s 2ms/step - loss: 0.7984 - acc: 0.7638 - val_loss: 0.2015 - val_acc: 0.9404\n",
      "Epoch 2/30\n",
      "31500/31500 [==============================] - 34s 1ms/step - loss: 0.1698 - acc: 0.9479 - val_loss: 0.1010 - val_acc: 0.9698\n",
      "Epoch 3/30\n",
      "31500/31500 [==============================] - 25s 791us/step - loss: 0.1074 - acc: 0.9667 - val_loss: 0.0749 - val_acc: 0.9774\n",
      "Epoch 4/30\n",
      "31500/31500 [==============================] - 21s 662us/step - loss: 0.0766 - acc: 0.9760 - val_loss: 0.0621 - val_acc: 0.9807\n",
      "Epoch 5/30\n",
      "31500/31500 [==============================] - 21s 657us/step - loss: 0.0639 - acc: 0.9793 - val_loss: 0.0507 - val_acc: 0.9843\n",
      "Epoch 6/30\n",
      "31500/31500 [==============================] - 17s 550us/step - loss: 0.0512 - acc: 0.9834 - val_loss: 0.0458 - val_acc: 0.9858\n",
      "Epoch 7/30\n",
      "31500/31500 [==============================] - 17s 534us/step - loss: 0.0460 - acc: 0.9854 - val_loss: 0.0450 - val_acc: 0.9865\n",
      "Epoch 8/30\n",
      "31500/31500 [==============================] - 17s 536us/step - loss: 0.0385 - acc: 0.9886 - val_loss: 0.0403 - val_acc: 0.9876\n",
      "Epoch 9/30\n",
      "31500/31500 [==============================] - 19s 599us/step - loss: 0.0338 - acc: 0.9891 - val_loss: 0.0399 - val_acc: 0.9876\n",
      "Epoch 10/30\n",
      "31500/31500 [==============================] - 18s 580us/step - loss: 0.0322 - acc: 0.9891 - val_loss: 0.0402 - val_acc: 0.9890\n",
      "Epoch 11/30\n",
      "31500/31500 [==============================] - 16s 516us/step - loss: 0.0301 - acc: 0.9900 - val_loss: 0.0384 - val_acc: 0.9887\n",
      "Epoch 12/30\n",
      "31500/31500 [==============================] - 17s 526us/step - loss: 0.0258 - acc: 0.9917 - val_loss: 0.0351 - val_acc: 0.9900\n",
      "Epoch 13/30\n",
      "31500/31500 [==============================] - 17s 545us/step - loss: 0.0233 - acc: 0.9927 - val_loss: 0.0338 - val_acc: 0.9897\n",
      "Epoch 14/30\n",
      "31500/31500 [==============================] - 16s 524us/step - loss: 0.0221 - acc: 0.9927 - val_loss: 0.0336 - val_acc: 0.9903\n",
      "Epoch 15/30\n",
      "31500/31500 [==============================] - 17s 536us/step - loss: 0.0203 - acc: 0.9935 - val_loss: 0.0352 - val_acc: 0.9905\n",
      "Epoch 16/30\n",
      "31500/31500 [==============================] - 14s 442us/step - loss: 0.0190 - acc: 0.9937 - val_loss: 0.0347 - val_acc: 0.9901\n",
      "Epoch 17/30\n",
      "31500/31500 [==============================] - 14s 459us/step - loss: 0.0180 - acc: 0.9942 - val_loss: 0.0347 - val_acc: 0.9908\n",
      "Epoch 18/30\n",
      "31500/31500 [==============================] - 20s 639us/step - loss: 0.0161 - acc: 0.9944 - val_loss: 0.0359 - val_acc: 0.9909\n",
      "Epoch 19/30\n",
      "31500/31500 [==============================] - 25s 785us/step - loss: 0.0142 - acc: 0.9955 - val_loss: 0.0335 - val_acc: 0.9910\n",
      "Epoch 20/30\n",
      "31500/31500 [==============================] - 17s 545us/step - loss: 0.0154 - acc: 0.9946 - val_loss: 0.0343 - val_acc: 0.9896\n",
      "Epoch 21/30\n",
      "31500/31500 [==============================] - 17s 538us/step - loss: 0.0130 - acc: 0.9960 - val_loss: 0.0327 - val_acc: 0.9907\n",
      "Epoch 22/30\n",
      "31500/31500 [==============================] - 16s 510us/step - loss: 0.0121 - acc: 0.9964 - val_loss: 0.0350 - val_acc: 0.9909\n",
      "Epoch 23/30\n",
      "31500/31500 [==============================] - 16s 498us/step - loss: 0.0118 - acc: 0.9963 - val_loss: 0.0341 - val_acc: 0.9904\n",
      "Epoch 24/30\n",
      "31500/31500 [==============================] - 16s 502us/step - loss: 0.0107 - acc: 0.9966 - val_loss: 0.0346 - val_acc: 0.9911\n",
      "Epoch 25/30\n",
      "31500/31500 [==============================] - 16s 508us/step - loss: 0.0108 - acc: 0.9964 - val_loss: 0.0395 - val_acc: 0.9897\n",
      "Epoch 26/30\n",
      "31500/31500 [==============================] - 16s 511us/step - loss: 0.0090 - acc: 0.9973 - val_loss: 0.0364 - val_acc: 0.9906\n",
      "Epoch 27/30\n",
      "31500/31500 [==============================] - 16s 518us/step - loss: 0.0094 - acc: 0.9969 - val_loss: 0.0364 - val_acc: 0.9910\n",
      "Epoch 28/30\n",
      "31500/31500 [==============================] - 17s 541us/step - loss: 0.0080 - acc: 0.9973 - val_loss: 0.0344 - val_acc: 0.9908\n",
      "Epoch 29/30\n",
      "31500/31500 [==============================] - 17s 552us/step - loss: 0.0075 - acc: 0.9977 - val_loss: 0.0352 - val_acc: 0.9907\n",
      "Epoch 30/30\n",
      "31500/31500 [==============================] - 20s 632us/step - loss: 0.0085 - acc: 0.9972 - val_loss: 0.0367 - val_acc: 0.9910\n"
     ]
    },
    {
     "data": {
      "text/plain": [
       "<keras.callbacks.History at 0x7f2da81652e8>"
      ]
     },
     "execution_count": 17,
     "metadata": {},
     "output_type": "execute_result"
    }
   ],
   "source": [
    "model.fit(X_train, Y_train,\n",
    "         batch_size=batch_size,\n",
    "         epochs=30,\n",
    "         verbose=1,\n",
    "         validation_data=(X_dev, Y_dev))"
   ]
  },
  {
   "cell_type": "code",
   "execution_count": 22,
   "metadata": {},
   "outputs": [
    {
     "name": "stdout",
     "output_type": "stream",
     "text": [
      "_________________________________________________________________\n",
      "Layer (type)                 Output Shape              Param #   \n",
      "=================================================================\n",
      "conv2d_1 (Conv2D)            (None, 24, 24, 32)        832       \n",
      "_________________________________________________________________\n",
      "max_pooling2d_1 (MaxPooling2 (None, 12, 12, 32)        0         \n",
      "_________________________________________________________________\n",
      "conv2d_2 (Conv2D)            (None, 8, 8, 64)          51264     \n",
      "_________________________________________________________________\n",
      "max_pooling2d_2 (MaxPooling2 (None, 4, 4, 64)          0         \n",
      "_________________________________________________________________\n",
      "dropout_1 (Dropout)          (None, 4, 4, 64)          0         \n",
      "_________________________________________________________________\n",
      "flatten_1 (Flatten)          (None, 1024)              0         \n",
      "_________________________________________________________________\n",
      "dense_1 (Dense)              (None, 1024)              1049600   \n",
      "_________________________________________________________________\n",
      "dropout_2 (Dropout)          (None, 1024)              0         \n",
      "_________________________________________________________________\n",
      "dense_2 (Dense)              (None, 10)                10250     \n",
      "=================================================================\n",
      "Total params: 1,111,946\n",
      "Trainable params: 1,111,946\n",
      "Non-trainable params: 0\n",
      "_________________________________________________________________\n"
     ]
    }
   ],
   "source": [
    "model.summary()"
   ]
  },
  {
   "cell_type": "code",
   "execution_count": 18,
   "metadata": {
    "collapsed": true
   },
   "outputs": [],
   "source": [
    "Y_predicted = model.predict(X_test)"
   ]
  },
  {
   "cell_type": "code",
   "execution_count": 19,
   "metadata": {
    "collapsed": true
   },
   "outputs": [],
   "source": [
    "Y_predicted = np.argmax(Y_predicted, 1)"
   ]
  },
  {
   "cell_type": "code",
   "execution_count": 20,
   "metadata": {},
   "outputs": [
    {
     "data": {
      "text/plain": [
       "2"
      ]
     },
     "execution_count": 20,
     "metadata": {},
     "output_type": "execute_result"
    }
   ],
   "source": [
    "Y_predicted[0]"
   ]
  },
  {
   "cell_type": "code",
   "execution_count": 21,
   "metadata": {
    "collapsed": true
   },
   "outputs": [],
   "source": [
    "with open('submission-cnn-keras.csv', 'w') as file:\n",
    "    writer = csv.writer(file)\n",
    "    writer.writerow(['ImageId', 'Label'])\n",
    "    for i in range(Y_predicted.shape[0]):\n",
    "        writer.writerow([i+1, Y_predicted[i]])"
   ]
  }
 ],
 "metadata": {
  "kernelspec": {
   "display_name": "Python [conda env:ML]",
   "language": "python",
   "name": "conda-env-ML-py"
  },
  "language_info": {
   "codemirror_mode": {
    "name": "ipython",
    "version": 3
   },
   "file_extension": ".py",
   "mimetype": "text/x-python",
   "name": "python",
   "nbconvert_exporter": "python",
   "pygments_lexer": "ipython3",
   "version": "3.5.4"
  }
 },
 "nbformat": 4,
 "nbformat_minor": 2
}
