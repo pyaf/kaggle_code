{
 "cells": [
  {
   "cell_type": "code",
   "execution_count": 1,
   "metadata": {},
   "outputs": [
    {
     "name": "stderr",
     "output_type": "stream",
     "text": [
      "Using TensorFlow backend.\n"
     ]
    }
   ],
   "source": [
    "import tensorflow as tf\n",
    "config = tf.ConfigProto()\n",
    "config.gpu_options.allow_growth = True\n",
    "sess = tf.Session(config=config)\n",
    "\n",
    "import keras\n",
    "from keras.models import Sequential\n",
    "from keras.layers import Dense, Dropout, Flatten\n",
    "from keras.layers import Conv2D, MaxPooling2D\n",
    "# from keras.datasets import mnist\n",
    "import numpy as np\n",
    "import pandas as pd\n",
    "\n",
    "import matplotlib.pyplot as plt\n",
    "import matplotlib.cm as cm\n",
    "from sklearn.model_selection import train_test_split\n",
    "import csv\n",
    "%matplotlib inline"
   ]
  },
  {
   "cell_type": "code",
   "execution_count": 2,
   "metadata": {},
   "outputs": [
    {
     "name": "stdout",
     "output_type": "stream",
     "text": [
      "(31500, 785) (10500, 785)\n",
      "(31500, 28, 28, 1)\n",
      "(10500, 28, 28, 1)\n",
      "(28000, 28, 28, 1)\n"
     ]
    }
   ],
   "source": [
    "data = pd.read_csv('train.csv')\n",
    "train, dev = train_test_split(data, test_size=0.25,random_state=0, stratify=data['label'])\n",
    "\n",
    "Y_train = train.iloc[:, 0].as_matrix()\n",
    "Y_train = np.eye(10, dtype='float32')[Y_train] \n",
    "#it's imp to specify dtype, as default is float64, but placeholder expects float32.\n",
    "X_train = train.iloc[:,1:].as_matrix().astype('float32')\n",
    "Y_dev = dev.iloc[:, 0].as_matrix()\n",
    "Y_dev = np.eye(10, dtype='float32')[Y_dev]\n",
    "X_dev = dev.iloc[:,1:].as_matrix().astype('float32')\n",
    "X_test = pd.read_csv('test.csv').as_matrix().astype('float32')\n",
    "\n",
    "X_train = X_train.reshape(X_train.shape[0], 28, 28, 1)\n",
    "X_test = X_test.reshape(X_test.shape[0], 28, 28, 1)\n",
    "X_dev = X_dev.reshape(X_dev.shape[0], 28, 28, 1)\n",
    "\n",
    "X_test = np.multiply(X_test, 1.0/255.0)\n",
    "X_train = np.multiply(X_train, 1.0/255.0)\n",
    "X_dev = np.multiply(X_dev, 1.0/255.0)\n",
    "\n",
    "print(train.shape, dev.shape)\n",
    "print(X_train.shape)\n",
    "print(X_dev.shape)\n",
    "print(X_test.shape)"
   ]
  },
  {
   "cell_type": "code",
   "execution_count": 3,
   "metadata": {
    "collapsed": true
   },
   "outputs": [],
   "source": [
    "batch_size = 1000\n",
    "num_classes = 10\n",
    "epochs = 15\n",
    "\n",
    "# input image dimensions\n",
    "img_rows, img_cols = 28, 28\n",
    "input_shape = (img_rows, img_cols, 1)"
   ]
  },
  {
   "cell_type": "code",
   "execution_count": 4,
   "metadata": {
    "collapsed": true
   },
   "outputs": [],
   "source": [
    "# (x_train, y_train), (x_test, y_test) = mnist.load_data()\n"
   ]
  },
  {
   "cell_type": "code",
   "execution_count": 5,
   "metadata": {},
   "outputs": [
    {
     "data": {
      "text/plain": [
       "((60000, 28, 28), (10000, 28, 28))"
      ]
     },
     "execution_count": 5,
     "metadata": {},
     "output_type": "execute_result"
    }
   ],
   "source": [
    "# x_train.shape, x_test.shape"
   ]
  },
  {
   "cell_type": "code",
   "execution_count": 6,
   "metadata": {
    "collapsed": true
   },
   "outputs": [],
   "source": [
    "# x_train = x_train.reshape(x_train.shape[0], img_rows, img_cols, 1)\n",
    "# x_test = x_test.reshape(x_test.shape[0], img_rows, img_cols, 1)\n"
   ]
  },
  {
   "cell_type": "code",
   "execution_count": 7,
   "metadata": {},
   "outputs": [
    {
     "name": "stdout",
     "output_type": "stream",
     "text": [
      "x_train shape: (60000, 28, 28, 1)\n",
      "60000 train samples\n",
      "10000 test samples\n"
     ]
    }
   ],
   "source": [
    "# x_train = x_train.astype('float32')\n",
    "# x_test = x_test.astype('float32')\n",
    "# x_train /= 255\n",
    "# x_test /= 255\n",
    "# print('x_train shape:', x_train.shape)\n",
    "# print(x_train.shape[0], 'train samples')\n",
    "# print(x_test.shape[0], 'test samples')\n"
   ]
  },
  {
   "cell_type": "code",
   "execution_count": 8,
   "metadata": {},
   "outputs": [
    {
     "data": {
      "text/plain": [
       "<matplotlib.image.AxesImage at 0x7fb2d40d3160>"
      ]
     },
     "execution_count": 8,
     "metadata": {},
     "output_type": "execute_result"
    },
    {
     "data": {
      "image/png": "[encoded data removed]",
      "text/plain": [
       "<matplotlib.figure.Figure at 0x7fb3180f3b70>"
      ]
     },
     "metadata": {},
     "output_type": "display_data"
    }
   ],
   "source": [
    "# plt.imshow(x_train[10232].reshape(28,28), cmap=cm.binary)"
   ]
  },
  {
   "cell_type": "code",
   "execution_count": 9,
   "metadata": {},
   "outputs": [
    {
     "data": {
      "text/plain": [
       "5"
      ]
     },
     "execution_count": 9,
     "metadata": {},
     "output_type": "execute_result"
    }
   ],
   "source": [
    "# y_train[0]"
   ]
  },
  {
   "cell_type": "code",
   "execution_count": 10,
   "metadata": {
    "collapsed": true
   },
   "outputs": [],
   "source": [
    "# y_train = keras.utils.to_categorical(y_train, num_classes)\n",
    "# y_test = keras.utils.to_categorical(y_test, num_classes)"
   ]
  },
  {
   "cell_type": "code",
   "execution_count": 11,
   "metadata": {},
   "outputs": [
    {
     "data": {
      "text/plain": [
       "((60000, 10), (10000, 10))"
      ]
     },
     "execution_count": 11,
     "metadata": {},
     "output_type": "execute_result"
    }
   ],
   "source": [
    "# y_train.shape, y_test.shape"
   ]
  },
  {
   "cell_type": "code",
   "execution_count": 12,
   "metadata": {},
   "outputs": [
    {
     "data": {
      "text/plain": [
       "array([ 0.,  0.,  0.,  0.,  0.,  1.,  0.,  0.,  0.,  0.])"
      ]
     },
     "execution_count": 12,
     "metadata": {},
     "output_type": "execute_result"
    }
   ],
   "source": [
    "# y_train[0]"
   ]
  },
  {
   "cell_type": "code",
   "execution_count": 28,
   "metadata": {
    "collapsed": true
   },
   "outputs": [],
   "source": [
    "model = Sequential()\n",
    "model.add(Conv2D(32, kernel_size=(5, 5),\n",
    "                activation='relu',\n",
    "                input_shape=input_shape))\n",
    "model.add(MaxPooling2D(pool_size=(2, 2)))\n",
    "model.add(Conv2D(64, (5, 5), activation='relu'))\n",
    "model.add(MaxPooling2D(pool_size=(2,2)))\n",
    "model.add(Dropout(0.25))\n",
    "model.add(Flatten())\n",
    "model.add(Dense(1024, activation='relu'))\n",
    "model.add(Dropout(0.5))\n",
    "model.add(Dense(num_classes, activation='softmax'))\n",
    "\n",
    "model.compile(loss=keras.losses.categorical_crossentropy,\n",
    "             optimizer=keras.optimizers.Adam(),\n",
    "             metrics=['accuracy'])"
   ]
  },
  {
   "cell_type": "code",
   "execution_count": 14,
   "metadata": {},
   "outputs": [],
   "source": [
    "# model.fit(x_train, y_train,\n",
    "#          batch_size=batch_size,\n",
    "#          epochs=epochs,\n",
    "#          verbose=1,\n",
    "#          validation_data=(x_test, y_test))"
   ]
  },
  {
   "cell_type": "code",
   "execution_count": 15,
   "metadata": {},
   "outputs": [],
   "source": [
    "# score = model.evaluate(x_test, y_test, verbose=0)\n",
    "# print('Test loss:', score[0])\n",
    "# print('Test accuracy:', score[1])"
   ]
  },
  {
   "cell_type": "code",
   "execution_count": 16,
   "metadata": {},
   "outputs": [],
   "source": [
    "# model.reset_states()\n",
    "# keras.backend.clear_session() #destroyes current graph\n",
    "# sess = tf.Session(config=config)"
   ]
  },
  {
   "cell_type": "code",
   "execution_count": 29,
   "metadata": {},
   "outputs": [
    {
     "name": "stdout",
     "output_type": "stream",
     "text": [
      "Train on 31500 samples, validate on 10500 samples\n",
      "Epoch 1/40\n",
      "31500/31500 [==============================] - 2s 68us/step - loss: 0.8100 - acc: 0.7612 - val_loss: 0.2196 - val_acc: 0.9365\n",
      "Epoch 2/40\n",
      "31500/31500 [==============================] - 2s 53us/step - loss: 0.1779 - acc: 0.9462 - val_loss: 0.1148 - val_acc: 0.9660\n",
      "Epoch 3/40\n",
      "31500/31500 [==============================] - 2s 53us/step - loss: 0.1126 - acc: 0.9660 - val_loss: 0.0780 - val_acc: 0.9753\n",
      "Epoch 4/40\n",
      "31500/31500 [==============================] - 2s 54us/step - loss: 0.0846 - acc: 0.9745 - val_loss: 0.0656 - val_acc: 0.9799\n",
      "Epoch 5/40\n",
      "31500/31500 [==============================] - 2s 53us/step - loss: 0.0684 - acc: 0.9786 - val_loss: 0.0592 - val_acc: 0.9819\n",
      "Epoch 6/40\n",
      "31500/31500 [==============================] - 2s 52us/step - loss: 0.0568 - acc: 0.9818 - val_loss: 0.0489 - val_acc: 0.9849\n",
      "Epoch 7/40\n",
      "31500/31500 [==============================] - 2s 50us/step - loss: 0.0500 - acc: 0.9842 - val_loss: 0.0462 - val_acc: 0.9853\n",
      "Epoch 8/40\n",
      "31500/31500 [==============================] - 2s 55us/step - loss: 0.0440 - acc: 0.9860 - val_loss: 0.0414 - val_acc: 0.9870\n",
      "Epoch 9/40\n",
      "31500/31500 [==============================] - 2s 55us/step - loss: 0.0378 - acc: 0.9887 - val_loss: 0.0446 - val_acc: 0.9870\n",
      "Epoch 10/40\n",
      "31500/31500 [==============================] - 2s 58us/step - loss: 0.0347 - acc: 0.9890 - val_loss: 0.0409 - val_acc: 0.9872\n",
      "Epoch 11/40\n",
      "31500/31500 [==============================] - 2s 53us/step - loss: 0.0312 - acc: 0.9903 - val_loss: 0.0385 - val_acc: 0.9881\n",
      "Epoch 12/40\n",
      "31500/31500 [==============================] - 2s 49us/step - loss: 0.0283 - acc: 0.9907 - val_loss: 0.0383 - val_acc: 0.9886\n",
      "Epoch 13/40\n",
      "31500/31500 [==============================] - 2s 48us/step - loss: 0.0273 - acc: 0.9906 - val_loss: 0.0354 - val_acc: 0.9883\n",
      "Epoch 14/40\n",
      "31500/31500 [==============================] - 2s 49us/step - loss: 0.0231 - acc: 0.9928 - val_loss: 0.0354 - val_acc: 0.9895\n",
      "Epoch 15/40\n",
      "31500/31500 [==============================] - 2s 49us/step - loss: 0.0205 - acc: 0.9933 - val_loss: 0.0355 - val_acc: 0.9896\n",
      "Epoch 16/40\n",
      "31500/31500 [==============================] - 2s 49us/step - loss: 0.0197 - acc: 0.9937 - val_loss: 0.0366 - val_acc: 0.9897\n",
      "Epoch 17/40\n",
      "31500/31500 [==============================] - 2s 61us/step - loss: 0.0176 - acc: 0.9943 - val_loss: 0.0339 - val_acc: 0.9904\n",
      "Epoch 18/40\n",
      "31500/31500 [==============================] - 5s 157us/step - loss: 0.0149 - acc: 0.9950 - val_loss: 0.0350 - val_acc: 0.9905\n",
      "Epoch 19/40\n",
      "31500/31500 [==============================] - 7s 229us/step - loss: 0.0159 - acc: 0.9950 - val_loss: 0.0366 - val_acc: 0.9908\n",
      "Epoch 20/40\n",
      "31500/31500 [==============================] - 6s 205us/step - loss: 0.0145 - acc: 0.9954 - val_loss: 0.0330 - val_acc: 0.9910\n",
      "Epoch 21/40\n",
      "31500/31500 [==============================] - 6s 203us/step - loss: 0.0132 - acc: 0.9959 - val_loss: 0.0342 - val_acc: 0.9897\n",
      "Epoch 22/40\n",
      "31500/31500 [==============================] - 7s 231us/step - loss: 0.0127 - acc: 0.9960 - val_loss: 0.0357 - val_acc: 0.9914\n",
      "Epoch 23/40\n",
      "31500/31500 [==============================] - 7s 214us/step - loss: 0.0128 - acc: 0.9960 - val_loss: 0.0356 - val_acc: 0.9907\n",
      "Epoch 24/40\n",
      "31500/31500 [==============================] - 7s 230us/step - loss: 0.0112 - acc: 0.9964 - val_loss: 0.0367 - val_acc: 0.9907\n",
      "Epoch 25/40\n",
      "31500/31500 [==============================] - 7s 238us/step - loss: 0.0097 - acc: 0.9972 - val_loss: 0.0386 - val_acc: 0.9902\n",
      "Epoch 26/40\n",
      "31500/31500 [==============================] - 7s 216us/step - loss: 0.0098 - acc: 0.9968 - val_loss: 0.0372 - val_acc: 0.9906\n",
      "Epoch 27/40\n",
      "31500/31500 [==============================] - 7s 209us/step - loss: 0.0105 - acc: 0.9965 - val_loss: 0.0383 - val_acc: 0.9907\n",
      "Epoch 28/40\n",
      "31500/31500 [==============================] - 7s 224us/step - loss: 0.0093 - acc: 0.9971 - val_loss: 0.0377 - val_acc: 0.9903\n",
      "Epoch 29/40\n",
      "31500/31500 [==============================] - 7s 228us/step - loss: 0.0095 - acc: 0.9970 - val_loss: 0.0332 - val_acc: 0.9917\n",
      "Epoch 30/40\n",
      "31500/31500 [==============================] - 7s 232us/step - loss: 0.0087 - acc: 0.9970 - val_loss: 0.0381 - val_acc: 0.9908\n",
      "Epoch 31/40\n",
      "31500/31500 [==============================] - 8s 246us/step - loss: 0.0089 - acc: 0.9972 - val_loss: 0.0338 - val_acc: 0.9910\n",
      "Epoch 32/40\n",
      "31500/31500 [==============================] - 7s 219us/step - loss: 0.0076 - acc: 0.9980 - val_loss: 0.0369 - val_acc: 0.9910\n",
      "Epoch 33/40\n",
      "31500/31500 [==============================] - 5s 172us/step - loss: 0.0076 - acc: 0.9976 - val_loss: 0.0360 - val_acc: 0.9903\n",
      "Epoch 34/40\n",
      "31500/31500 [==============================] - 6s 191us/step - loss: 0.0081 - acc: 0.9974 - val_loss: 0.0357 - val_acc: 0.9907\n",
      "Epoch 35/40\n",
      "31500/31500 [==============================] - 6s 183us/step - loss: 0.0073 - acc: 0.9977 - val_loss: 0.0364 - val_acc: 0.9918\n",
      "Epoch 36/40\n",
      "31500/31500 [==============================] - 8s 241us/step - loss: 0.0068 - acc: 0.9977 - val_loss: 0.0366 - val_acc: 0.9913\n",
      "Epoch 37/40\n",
      "31500/31500 [==============================] - 7s 226us/step - loss: 0.0060 - acc: 0.9982 - val_loss: 0.0391 - val_acc: 0.9915\n",
      "Epoch 38/40\n",
      "31500/31500 [==============================] - 7s 219us/step - loss: 0.0058 - acc: 0.9981 - val_loss: 0.0388 - val_acc: 0.9914\n",
      "Epoch 39/40\n",
      "31500/31500 [==============================] - 7s 228us/step - loss: 0.0061 - acc: 0.9981 - val_loss: 0.0357 - val_acc: 0.9914\n",
      "Epoch 40/40\n",
      "31500/31500 [==============================] - 6s 206us/step - loss: 0.0047 - acc: 0.9987 - val_loss: 0.0382 - val_acc: 0.9910\n"
     ]
    },
    {
     "data": {
      "text/plain": [
       "<keras.callbacks.History at 0x7fb2940d6ef0>"
      ]
     },
     "execution_count": 29,
     "metadata": {},
     "output_type": "execute_result"
    }
   ],
   "source": [
    "model.fit(X_train, Y_train,\n",
    "         batch_size=batch_size,\n",
    "         epochs=30,\n",
    "         verbose=1,\n",
    "         validation_data=(X_dev, Y_dev))"
   ]
  },
  {
   "cell_type": "code",
   "execution_count": 18,
   "metadata": {
    "collapsed": true
   },
   "outputs": [],
   "source": [
    "Y_predicted = model.predict(X_test)"
   ]
  },
  {
   "cell_type": "code",
   "execution_count": 19,
   "metadata": {},
   "outputs": [],
   "source": [
    "Y_predicted = np.argmax(Y_predicted, 1)"
   ]
  },
  {
   "cell_type": "code",
   "execution_count": 20,
   "metadata": {},
   "outputs": [
    {
     "data": {
      "text/plain": [
       "2"
      ]
     },
     "execution_count": 20,
     "metadata": {},
     "output_type": "execute_result"
    }
   ],
   "source": [
    "Y_predicted[0]"
   ]
  },
  {
   "cell_type": "code",
   "execution_count": 22,
   "metadata": {},
   "outputs": [],
   "source": [
    "with open('submission-cnn-keras.csv', 'w') as file:\n",
    "    writer = csv.writer(file)\n",
    "    writer.writerow(['ImageId', 'Label'])\n",
    "    for i in range(Y_predicted.shape[0]):\n",
    "        writer.writerow([i+1, Y_predicted[i]])"
   ]
  }
 ],
 "metadata": {
  "kernelspec": {
   "display_name": "Python [conda env:ML]",
   "language": "python",
   "name": "conda-env-ML-py"
  },
  "language_info": {
   "codemirror_mode": {
    "name": "ipython",
    "version": 3
   },
   "file_extension": ".py",
   "mimetype": "text/x-python",
   "name": "python",
   "nbconvert_exporter": "python",
   "pygments_lexer": "ipython3",
   "version": "3.5.4"
  }
 },
 "nbformat": 4,
 "nbformat_minor": 2
}
