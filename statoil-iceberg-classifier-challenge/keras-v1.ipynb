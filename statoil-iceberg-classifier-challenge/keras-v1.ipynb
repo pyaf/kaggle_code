{
 "cells": [
  {
   "cell_type": "code",
   "execution_count": 1,
   "metadata": {},
   "outputs": [
    {
     "name": "stderr",
     "output_type": "stream",
     "text": [
      "Using TensorFlow backend.\n"
     ]
    }
   ],
   "source": [
    "import pandas as pd\n",
    "import numpy as np\n",
    "import matplotlib.pyplot as plt\n",
    "import csv\n",
    "import tensorflow as tf\n",
    "config = tf.ConfigProto()\n",
    "# config.gpu_options.allow_growth = True\n",
    "config.gpu_options.per_process_gpu_memory_fraction = 0.3\n",
    "tf.Session(config=config)\n",
    "# import seaborn as sns\n",
    "from keras.models import *\n",
    "from keras.layers import *\n",
    "from keras.optimizers import *\n",
    "from keras.preprocessing.image import ImageDataGenerator\n",
    "from sklearn.model_selection import train_test_split\n",
    "\n",
    "%matplotlib inline"
   ]
  },
  {
   "cell_type": "code",
   "execution_count": null,
   "metadata": {
    "collapsed": true
   },
   "outputs": [],
   "source": [
    "train = pd.read_json('data/train.json')\n",
    "test = pd.read_json('data/test.json')"
   ]
  },
  {
   "cell_type": "code",
   "execution_count": 3,
   "metadata": {},
   "outputs": [
    {
     "data": {
      "text/plain": [
       "((1604, 5), (8424, 4))"
      ]
     },
     "execution_count": 3,
     "metadata": {},
     "output_type": "execute_result"
    }
   ],
   "source": [
    "train.shape, test.shape"
   ]
  },
  {
   "cell_type": "code",
   "execution_count": 4,
   "metadata": {
    "collapsed": true
   },
   "outputs": [],
   "source": [
    "def get_scaled_imgs(df):\n",
    "    imgs = []\n",
    "    labels = []\n",
    "    for i, row in df.iterrows():\n",
    "        #make 75x75 image\n",
    "        band_1 = np.array(row['band_1']).reshape(75, 75)\n",
    "        band_2 = np.array(row['band_2']).reshape(75, 75)\n",
    "        band_3 = band_1 + band_2 # plus since log(x*y) = log(x) + log(y)\n",
    "        \n",
    "        # Rescale\n",
    "        a = (band_1 - band_1.mean()) / (band_1.max() - band_1.min())\n",
    "        b = (band_2 - band_2.mean()) / (band_2.max() - band_2.min())\n",
    "        c = (band_3 - band_3.mean()) / (band_3.max() - band_3.min())\n",
    "\n",
    "        imgs.append(np.dstack((a, b, c)))\n",
    "        labels.append(row['is_iceberg'])\n",
    "\n",
    "    return np.array(imgs), np.array(labels)"
   ]
  },
  {
   "cell_type": "code",
   "execution_count": 5,
   "metadata": {
    "collapsed": true
   },
   "outputs": [],
   "source": [
    "def get_training_data(df, angles=False):\n",
    "    imgs = []\n",
    "    labels = []\n",
    "    inc_angles = []\n",
    "    for i, row in df.iterrows():\n",
    "        #make 75x75 image\n",
    "        band_1 = np.array(row['band_1']).reshape(75, 75)\n",
    "        band_2 = np.array(row['band_2']).reshape(75, 75)\n",
    "        band_3 = band_1 / band_2\n",
    "#         band_3 = band_1 + band_2 # plus since log(x*y) = log(x) + log(y)\n",
    "        \n",
    "        # Rescale\n",
    "#         a = (band_1 - band_1.mean()) / (band_1.max() - band_1.min())\n",
    "#         b = (band_2 - band_2.mean()) / (band_2.max() - band_2.min())\n",
    "#         c = (band_3 - band_3.mean()) / (band_3.max() - band_3.min())\n",
    "        \n",
    "        a = (band_1 + abs(band_1.min())) / np.max((band_1 + abs(band_1.min())))\n",
    "        b = (band_2 + abs(band_2.min())) / np.max((band_2 + abs(band_2.min())))\n",
    "        c = (band_3 + abs(band_3.min())) / np.max((band_3 + abs(band_3.min())))\n",
    "        \n",
    "        imgs.append(np.dstack((a, b, c)))\n",
    "        labels.append(row['is_iceberg'])\n",
    "        if angles: \n",
    "            inc_angles.append(row['inc_angle'])\n",
    "    if angles:    \n",
    "        return np.array(imgs), np.array(inc_angles), np.array(labels)\n",
    "    else:\n",
    "        return np.array(imgs), np.array(labels)"
   ]
  },
  {
   "cell_type": "code",
   "execution_count": 6,
   "metadata": {
    "collapsed": true
   },
   "outputs": [],
   "source": [
    "Xtrain, Ytrain = get_scaled_imgs(train)"
   ]
  },
  {
   "cell_type": "code",
   "execution_count": 7,
   "metadata": {
    "collapsed": true
   },
   "outputs": [],
   "source": [
    "Xtest = get_test_imgs(test)"
   ]
  },
  {
   "cell_type": "code",
   "execution_count": 8,
   "metadata": {},
   "outputs": [
    {
     "data": {
      "text/plain": [
       "((1604, 75, 75, 3), (1604,), (8424, 75, 75, 3))"
      ]
     },
     "execution_count": 8,
     "metadata": {},
     "output_type": "execute_result"
    }
   ],
   "source": [
    "Xtrain.shape, Ytrain.shape, Xtest.shape"
   ]
  },
  {
   "cell_type": "code",
   "execution_count": 9,
   "metadata": {
    "collapsed": true
   },
   "outputs": [],
   "source": [
    "Ytrain = Ytrain.reshape(Ytrain.shape[0], 1)"
   ]
  },
  {
   "cell_type": "code",
   "execution_count": 10,
   "metadata": {
    "collapsed": true
   },
   "outputs": [],
   "source": [
    "def getModel():\n",
    "    #Build keras model\n",
    "    \n",
    "    model=Sequential()\n",
    "    \n",
    "    # CNN 1\n",
    "    model.add(Conv2D(64, kernel_size=(3, 3),activation='relu', input_shape=(75, 75, 3)))\n",
    "    model.add(MaxPooling2D(pool_size=(3, 3), strides=(2, 2)))\n",
    "    model.add(Dropout(0.2))\n",
    "\n",
    "    # CNN 2\n",
    "    model.add(Conv2D(128, kernel_size=(3, 3), activation='relu' ))\n",
    "    model.add(MaxPooling2D(pool_size=(2, 2), strides=(2, 2)))\n",
    "    model.add(Dropout(0.2))\n",
    "\n",
    "    # CNN 3\n",
    "    model.add(Conv2D(128, kernel_size=(3, 3), activation='relu'))\n",
    "    model.add(MaxPooling2D(pool_size=(2, 2), strides=(2, 2)))\n",
    "    model.add(Dropout(0.2))\n",
    "\n",
    "    #CNN 4\n",
    "    model.add(Conv2D(64, kernel_size=(3, 3), activation='relu'))\n",
    "    model.add(MaxPooling2D(pool_size=(2, 2), strides=(2, 2)))\n",
    "    model.add(Dropout(0.2))\n",
    "\n",
    "    # You must flatten the data for the dense layers\n",
    "    model.add(Flatten())\n",
    "\n",
    "    #Dense 1\n",
    "    model.add(Dense(512, activation='relu'))\n",
    "#     model.add(BatchNormalization())\n",
    "    model.add(Dropout(0.2))\n",
    "\n",
    "    #Dense 2\n",
    "    model.add(Dense(256, activation='relu'))\n",
    "#     model.add(BatchNormalization())\n",
    "    model.add(Dropout(0.2))\n",
    "    \n",
    "#     model.add(Dense(256, activation='relu'))\n",
    "# #     model.add(BatchNormalization())\n",
    "#     model.add(Dropout(0.25))\n",
    "    # Output \n",
    "    model.add(Dense(1, activation=\"sigmoid\"))\n",
    "\n",
    "#     optimizer = Adam(lr=0.001, decay=0.0)\n",
    "    model.compile(loss='binary_crossentropy', optimizer='adam', metrics=['accuracy'])\n",
    "    \n",
    "    return model"
   ]
  },
  {
   "cell_type": "code",
   "execution_count": 11,
   "metadata": {
    "collapsed": true
   },
   "outputs": [],
   "source": [
    "# model = getModel()"
   ]
  },
  {
   "cell_type": "code",
   "execution_count": 12,
   "metadata": {
    "collapsed": true
   },
   "outputs": [],
   "source": [
    "# model.summary()\n",
    "model = load_model('models/m1.h5')"
   ]
  },
  {
   "cell_type": "code",
   "execution_count": 13,
   "metadata": {},
   "outputs": [
    {
     "name": "stdout",
     "output_type": "stream",
     "text": [
      "Train on 1443 samples, validate on 161 samples\n",
      "Epoch 1/20\n",
      "1443/1443 [==============================] - 10s 7ms/step - loss: 0.1272 - acc: 0.9494 - val_loss: 0.3378 - val_acc: 0.8571\n",
      "Epoch 2/20\n",
      "1443/1443 [==============================] - 6s 4ms/step - loss: 0.1873 - acc: 0.9349 - val_loss: 0.2906 - val_acc: 0.8447\n",
      "Epoch 3/20\n",
      "1443/1443 [==============================] - 6s 4ms/step - loss: 0.1306 - acc: 0.9494 - val_loss: 0.3726 - val_acc: 0.8696\n",
      "Epoch 4/20\n",
      "1443/1443 [==============================] - 6s 4ms/step - loss: 0.1303 - acc: 0.9515 - val_loss: 0.2891 - val_acc: 0.8634\n",
      "Epoch 5/20\n",
      "1443/1443 [==============================] - 6s 4ms/step - loss: 0.1106 - acc: 0.9591 - val_loss: 0.2920 - val_acc: 0.8820\n",
      "Epoch 6/20\n",
      "1443/1443 [==============================] - 6s 4ms/step - loss: 0.1032 - acc: 0.9619 - val_loss: 0.5358 - val_acc: 0.8199\n",
      "Epoch 7/20\n",
      "1443/1443 [==============================] - 6s 4ms/step - loss: 0.1141 - acc: 0.9529 - val_loss: 0.3638 - val_acc: 0.8634\n",
      "Epoch 8/20\n",
      "1443/1443 [==============================] - 6s 4ms/step - loss: 0.1409 - acc: 0.9543 - val_loss: 0.3456 - val_acc: 0.8447\n",
      "Epoch 9/20\n",
      "1443/1443 [==============================] - 6s 4ms/step - loss: 0.1084 - acc: 0.9605 - val_loss: 0.3639 - val_acc: 0.8634\n",
      "Epoch 10/20\n",
      "1443/1443 [==============================] - 6s 4ms/step - loss: 0.1041 - acc: 0.9660 - val_loss: 0.3678 - val_acc: 0.8323\n",
      "Epoch 11/20\n",
      "1443/1443 [==============================] - 6s 4ms/step - loss: 0.0665 - acc: 0.9737 - val_loss: 0.2526 - val_acc: 0.8571\n",
      "Epoch 12/20\n",
      "1443/1443 [==============================] - 6s 4ms/step - loss: 0.0642 - acc: 0.9764 - val_loss: 0.2971 - val_acc: 0.8820\n",
      "Epoch 13/20\n",
      "1443/1443 [==============================] - 6s 4ms/step - loss: 0.1305 - acc: 0.9563 - val_loss: 0.2886 - val_acc: 0.8634\n",
      "Epoch 14/20\n",
      "1443/1443 [==============================] - 6s 4ms/step - loss: 0.0891 - acc: 0.9716 - val_loss: 0.2783 - val_acc: 0.8882\n",
      "Epoch 15/20\n",
      "1443/1443 [==============================] - 6s 4ms/step - loss: 0.0911 - acc: 0.9653 - val_loss: 0.4114 - val_acc: 0.8385\n",
      "Epoch 16/20\n",
      "1443/1443 [==============================] - 6s 4ms/step - loss: 0.1094 - acc: 0.9660 - val_loss: 0.5019 - val_acc: 0.8075\n",
      "Epoch 17/20\n",
      "1443/1443 [==============================] - 7s 5ms/step - loss: 0.0575 - acc: 0.9792 - val_loss: 0.5530 - val_acc: 0.8882\n",
      "Epoch 18/20\n",
      "1443/1443 [==============================] - 7s 5ms/step - loss: 0.0842 - acc: 0.9674 - val_loss: 0.8163 - val_acc: 0.8075\n",
      "Epoch 19/20\n",
      "1443/1443 [==============================] - 7s 5ms/step - loss: 0.0581 - acc: 0.9827 - val_loss: 0.5146 - val_acc: 0.8820\n",
      "Epoch 20/20\n",
      "1443/1443 [==============================] - 7s 5ms/step - loss: 0.0444 - acc: 0.9854 - val_loss: 0.5255 - val_acc: 0.8758\n",
      "CPU times: user 2min 30s, sys: 16.9 s, total: 2min 47s\n",
      "Wall time: 2min 11s\n"
     ]
    },
    {
     "data": {
      "text/plain": [
       "<keras.callbacks.History at 0x7f975404f128>"
      ]
     },
     "execution_count": 13,
     "metadata": {},
     "output_type": "execute_result"
    }
   ],
   "source": [
    "%%time\n",
    "model.fit(Xtrain, Ytrain, batch_size=4, epochs=20, verbose=1, validation_split=0.1)"
   ]
  },
  {
   "cell_type": "code",
   "execution_count": 58,
   "metadata": {},
   "outputs": [
    {
     "name": "stdout",
     "output_type": "stream",
     "text": [
      "1604/1604 [==============================] - 3s 2ms/step\n",
      "Train score 0.192378053727\n",
      "Train accuracy 0.922069829264\n"
     ]
    }
   ],
   "source": [
    "acc = model.evaluate(Xtrain, Ytrain, verbose=1, batch_size=3)\n",
    "print('Train score', acc[0])\n",
    "print('Train accuracy', acc[1])"
   ]
  },
  {
   "cell_type": "code",
   "execution_count": 61,
   "metadata": {
    "collapsed": true
   },
   "outputs": [],
   "source": [
    "model.save('models/m1.h5')"
   ]
  },
  {
   "cell_type": "code",
   "execution_count": 62,
   "metadata": {
    "collapsed": true
   },
   "outputs": [],
   "source": [
    "del model"
   ]
  },
  {
   "cell_type": "markdown",
   "metadata": {},
   "source": [
    "### With data augmentation"
   ]
  },
  {
   "cell_type": "code",
   "execution_count": 14,
   "metadata": {
    "collapsed": true
   },
   "outputs": [],
   "source": [
    "train2, dev2 = train_test_split(train, test_size=0.1,random_state=0, stratify=train['is_iceberg'])"
   ]
  },
  {
   "cell_type": "code",
   "execution_count": 15,
   "metadata": {
    "collapsed": true
   },
   "outputs": [],
   "source": [
    "Xtrain2, Ytrain2 = get_scaled_imgs(train2)\n",
    "Xdev2, Ydev2 = get_scaled_imgs(dev2)"
   ]
  },
  {
   "cell_type": "code",
   "execution_count": 16,
   "metadata": {},
   "outputs": [
    {
     "data": {
      "text/plain": [
       "((1443, 75, 75, 3), (1443,), (161, 75, 75, 3), (161,))"
      ]
     },
     "execution_count": 16,
     "metadata": {},
     "output_type": "execute_result"
    }
   ],
   "source": [
    "Xtrain2.shape, Ytrain2.shape, Xdev2.shape, Ydev2.shape"
   ]
  },
  {
   "cell_type": "code",
   "execution_count": 17,
   "metadata": {
    "collapsed": true
   },
   "outputs": [],
   "source": [
    "gen = ImageDataGenerator(horizontal_flip = True,\n",
    "                         vertical_flip = True,\n",
    "                         width_shift_range = 0.,\n",
    "                         height_shift_range = 0.,\n",
    "                         channel_shift_range=0,\n",
    "                         zoom_range = 0.5,\n",
    "                         rotation_range = 10)\n"
   ]
  },
  {
   "cell_type": "code",
   "execution_count": 18,
   "metadata": {
    "collapsed": true
   },
   "outputs": [],
   "source": [
    "gen_flow = gen.flow(Xtrain2, Ytrain2, batch_size=4, seed=5)"
   ]
  },
  {
   "cell_type": "code",
   "execution_count": 19,
   "metadata": {
    "collapsed": true
   },
   "outputs": [],
   "source": [
    "model2 = getModel()"
   ]
  },
  {
   "cell_type": "code",
   "execution_count": 20,
   "metadata": {},
   "outputs": [
    {
     "name": "stdout",
     "output_type": "stream",
     "text": [
      "Epoch 1/10\n",
      "1000/1000 [==============================] - 28s 28ms/step - loss: 0.6871 - acc: 0.5297 - val_loss: 0.6916 - val_acc: 0.5280\n",
      "Epoch 2/10\n",
      "1000/1000 [==============================] - 18s 18ms/step - loss: 0.6919 - acc: 0.5299 - val_loss: 0.6916 - val_acc: 0.5280\n",
      "Epoch 3/10\n",
      "1000/1000 [==============================] - 18s 18ms/step - loss: 0.6916 - acc: 0.5334 - val_loss: 0.6916 - val_acc: 0.5280\n",
      "Epoch 4/10\n",
      "1000/1000 [==============================] - 18s 18ms/step - loss: 0.6919 - acc: 0.5295 - val_loss: 0.6917 - val_acc: 0.5280\n",
      "Epoch 5/10\n",
      "1000/1000 [==============================] - 18s 18ms/step - loss: 0.6916 - acc: 0.5313 - val_loss: 0.6916 - val_acc: 0.5280\n",
      "Epoch 6/10\n",
      "1000/1000 [==============================] - 18s 18ms/step - loss: 0.6935 - acc: 0.5305 - val_loss: 0.6916 - val_acc: 0.5280\n",
      "Epoch 7/10\n",
      "1000/1000 [==============================] - 17s 17ms/step - loss: 0.6915 - acc: 0.5314 - val_loss: 0.6916 - val_acc: 0.5280\n",
      "Epoch 8/10\n",
      "1000/1000 [==============================] - 17s 17ms/step - loss: 0.6916 - acc: 0.5318 - val_loss: 0.6916 - val_acc: 0.5280\n",
      "Epoch 9/10\n",
      "1000/1000 [==============================] - 17s 17ms/step - loss: 0.6916 - acc: 0.5300 - val_loss: 0.6916 - val_acc: 0.5280\n",
      "Epoch 10/10\n",
      "1000/1000 [==============================] - ETA: 0s - loss: 0.6916 - acc: 0.529 - 16s 16ms/step - loss: 0.6916 - acc: 0.5297 - val_loss: 0.6916 - val_acc: 0.5280\n"
     ]
    },
    {
     "data": {
      "text/plain": [
       "<keras.callbacks.History at 0x7f973c29d0f0>"
      ]
     },
     "execution_count": 20,
     "metadata": {},
     "output_type": "execute_result"
    }
   ],
   "source": [
    "model2.fit_generator(\n",
    "    gen_flow,\n",
    "    steps_per_epoch=1000,\n",
    "    epochs=10,\n",
    "    shuffle=True,\n",
    "    verbose=1,\n",
    "    validation_data=(Xdev2, Ydev2))"
   ]
  },
  {
   "cell_type": "code",
   "execution_count": 34,
   "metadata": {},
   "outputs": [
    {
     "name": "stdout",
     "output_type": "stream",
     "text": [
      "1604/1604 [==============================] - 4s 2ms/step\n",
      "Train score 0.691317848731\n",
      "Train accuracy 0.530548639521\n"
     ]
    }
   ],
   "source": [
    "acc = model2.evaluate(Xtrain, Ytrain, verbose=1, batch_size=3)\n",
    "print('Train score', acc[0])\n",
    "print('Train accuracy', acc[1])"
   ]
  },
  {
   "cell_type": "code",
   "execution_count": 21,
   "metadata": {
    "collapsed": true
   },
   "outputs": [],
   "source": [
    "Ypredicted = model.predict(Xtest, batch_size=5)"
   ]
  },
  {
   "cell_type": "code",
   "execution_count": 54,
   "metadata": {
    "collapsed": true
   },
   "outputs": [],
   "source": [
    "model2.save('models/m2.h5')"
   ]
  },
  {
   "cell_type": "code",
   "execution_count": 71,
   "metadata": {
    "collapsed": true
   },
   "outputs": [],
   "source": [
    "del model2"
   ]
  },
  {
   "cell_type": "code",
   "execution_count": 33,
   "metadata": {
    "collapsed": true
   },
   "outputs": [],
   "source": [
    "submission = pd.DataFrame({'id': test[\"id\"], 'is_iceberg': Ypredicted.reshape((Ypredicted.shape[0])).round(decimals=3)})\n",
    "submission.to_csv('submission.csv', index=False)"
   ]
  },
  {
   "cell_type": "code",
   "execution_count": 39,
   "metadata": {
    "collapsed": true
   },
   "outputs": [],
   "source": [
    "model.save()"
   ]
  },
  {
   "cell_type": "code",
   "execution_count": 16,
   "metadata": {
    "collapsed": true
   },
   "outputs": [],
   "source": [
    "# with open('submission-cnn-keras.csv', 'w') as file:\n",
    "#     writer = csv.writer(file)\n",
    "#     writer.writerow(['id', 'is_iceberg'])\n",
    "#     for i, row in test.iterrows():\n",
    "#         writer.writerow([row['id'], np.round(Ypredicted[i][0])])"
   ]
  },
  {
   "cell_type": "code",
   "execution_count": 14,
   "metadata": {
    "collapsed": true
   },
   "outputs": [
    {
     "ename": "OSError",
     "evalue": "Unable to open file (unable to open file: name = 'models/m1.h5', errno = 2, error message = 'No such file or directory', flags = 0, o_flags = 0)",
     "output_type": "error",
     "traceback": [
      "\u001b[0;31m---------------------------------------------------------------------------\u001b[0m",
      "\u001b[0;31mOSError\u001b[0m                                   Traceback (most recent call last)",
      "\u001b[0;32m<ipython-input-14-fd754cbf59fa>\u001b[0m in \u001b[0;36m<module>\u001b[0;34m()\u001b[0m\n\u001b[0;32m----> 1\u001b[0;31m \u001b[0mload_model\u001b[0m\u001b[0;34m(\u001b[0m\u001b[0;34m'models/m1.h5'\u001b[0m\u001b[0;34m)\u001b[0m\u001b[0;34m\u001b[0m\u001b[0m\n\u001b[0m",
      "\u001b[0;32m~/anaconda3/envs/ML/lib/python3.5/site-packages/keras/models.py\u001b[0m in \u001b[0;36mload_model\u001b[0;34m(filepath, custom_objects, compile)\u001b[0m\n\u001b[1;32m    231\u001b[0m             \u001b[0;32mreturn\u001b[0m \u001b[0mcustom_objects\u001b[0m\u001b[0;34m[\u001b[0m\u001b[0mobj\u001b[0m\u001b[0;34m]\u001b[0m\u001b[0;34m\u001b[0m\u001b[0m\n\u001b[1;32m    232\u001b[0m         \u001b[0;32mreturn\u001b[0m \u001b[0mobj\u001b[0m\u001b[0;34m\u001b[0m\u001b[0m\n\u001b[0;32m--> 233\u001b[0;31m     \u001b[0;32mwith\u001b[0m \u001b[0mh5py\u001b[0m\u001b[0;34m.\u001b[0m\u001b[0mFile\u001b[0m\u001b[0;34m(\u001b[0m\u001b[0mfilepath\u001b[0m\u001b[0;34m,\u001b[0m \u001b[0mmode\u001b[0m\u001b[0;34m=\u001b[0m\u001b[0;34m'r'\u001b[0m\u001b[0;34m)\u001b[0m \u001b[0;32mas\u001b[0m \u001b[0mf\u001b[0m\u001b[0;34m:\u001b[0m\u001b[0;34m\u001b[0m\u001b[0m\n\u001b[0m\u001b[1;32m    234\u001b[0m         \u001b[0;31m# instantiate model\u001b[0m\u001b[0;34m\u001b[0m\u001b[0;34m\u001b[0m\u001b[0m\n\u001b[1;32m    235\u001b[0m         \u001b[0mmodel_config\u001b[0m \u001b[0;34m=\u001b[0m \u001b[0mf\u001b[0m\u001b[0;34m.\u001b[0m\u001b[0mattrs\u001b[0m\u001b[0;34m.\u001b[0m\u001b[0mget\u001b[0m\u001b[0;34m(\u001b[0m\u001b[0;34m'model_config'\u001b[0m\u001b[0;34m)\u001b[0m\u001b[0;34m\u001b[0m\u001b[0m\n",
      "\u001b[0;32m~/anaconda3/envs/ML/lib/python3.5/site-packages/h5py/_hl/files.py\u001b[0m in \u001b[0;36m__init__\u001b[0;34m(self, name, mode, driver, libver, userblock_size, swmr, **kwds)\u001b[0m\n\u001b[1;32m    267\u001b[0m             \u001b[0;32mwith\u001b[0m \u001b[0mphil\u001b[0m\u001b[0;34m:\u001b[0m\u001b[0;34m\u001b[0m\u001b[0m\n\u001b[1;32m    268\u001b[0m                 \u001b[0mfapl\u001b[0m \u001b[0;34m=\u001b[0m \u001b[0mmake_fapl\u001b[0m\u001b[0;34m(\u001b[0m\u001b[0mdriver\u001b[0m\u001b[0;34m,\u001b[0m \u001b[0mlibver\u001b[0m\u001b[0;34m,\u001b[0m \u001b[0;34m**\u001b[0m\u001b[0mkwds\u001b[0m\u001b[0;34m)\u001b[0m\u001b[0;34m\u001b[0m\u001b[0m\n\u001b[0;32m--> 269\u001b[0;31m                 \u001b[0mfid\u001b[0m \u001b[0;34m=\u001b[0m \u001b[0mmake_fid\u001b[0m\u001b[0;34m(\u001b[0m\u001b[0mname\u001b[0m\u001b[0;34m,\u001b[0m \u001b[0mmode\u001b[0m\u001b[0;34m,\u001b[0m \u001b[0muserblock_size\u001b[0m\u001b[0;34m,\u001b[0m \u001b[0mfapl\u001b[0m\u001b[0;34m,\u001b[0m \u001b[0mswmr\u001b[0m\u001b[0;34m=\u001b[0m\u001b[0mswmr\u001b[0m\u001b[0;34m)\u001b[0m\u001b[0;34m\u001b[0m\u001b[0m\n\u001b[0m\u001b[1;32m    270\u001b[0m \u001b[0;34m\u001b[0m\u001b[0m\n\u001b[1;32m    271\u001b[0m                 \u001b[0;32mif\u001b[0m \u001b[0mswmr_support\u001b[0m\u001b[0;34m:\u001b[0m\u001b[0;34m\u001b[0m\u001b[0m\n",
      "\u001b[0;32m~/anaconda3/envs/ML/lib/python3.5/site-packages/h5py/_hl/files.py\u001b[0m in \u001b[0;36mmake_fid\u001b[0;34m(name, mode, userblock_size, fapl, fcpl, swmr)\u001b[0m\n\u001b[1;32m     97\u001b[0m         \u001b[0;32mif\u001b[0m \u001b[0mswmr\u001b[0m \u001b[0;32mand\u001b[0m \u001b[0mswmr_support\u001b[0m\u001b[0;34m:\u001b[0m\u001b[0;34m\u001b[0m\u001b[0m\n\u001b[1;32m     98\u001b[0m             \u001b[0mflags\u001b[0m \u001b[0;34m|=\u001b[0m \u001b[0mh5f\u001b[0m\u001b[0;34m.\u001b[0m\u001b[0mACC_SWMR_READ\u001b[0m\u001b[0;34m\u001b[0m\u001b[0m\n\u001b[0;32m---> 99\u001b[0;31m         \u001b[0mfid\u001b[0m \u001b[0;34m=\u001b[0m \u001b[0mh5f\u001b[0m\u001b[0;34m.\u001b[0m\u001b[0mopen\u001b[0m\u001b[0;34m(\u001b[0m\u001b[0mname\u001b[0m\u001b[0;34m,\u001b[0m \u001b[0mflags\u001b[0m\u001b[0;34m,\u001b[0m \u001b[0mfapl\u001b[0m\u001b[0;34m=\u001b[0m\u001b[0mfapl\u001b[0m\u001b[0;34m)\u001b[0m\u001b[0;34m\u001b[0m\u001b[0m\n\u001b[0m\u001b[1;32m    100\u001b[0m     \u001b[0;32melif\u001b[0m \u001b[0mmode\u001b[0m \u001b[0;34m==\u001b[0m \u001b[0;34m'r+'\u001b[0m\u001b[0;34m:\u001b[0m\u001b[0;34m\u001b[0m\u001b[0m\n\u001b[1;32m    101\u001b[0m         \u001b[0mfid\u001b[0m \u001b[0;34m=\u001b[0m \u001b[0mh5f\u001b[0m\u001b[0;34m.\u001b[0m\u001b[0mopen\u001b[0m\u001b[0;34m(\u001b[0m\u001b[0mname\u001b[0m\u001b[0;34m,\u001b[0m \u001b[0mh5f\u001b[0m\u001b[0;34m.\u001b[0m\u001b[0mACC_RDWR\u001b[0m\u001b[0;34m,\u001b[0m \u001b[0mfapl\u001b[0m\u001b[0;34m=\u001b[0m\u001b[0mfapl\u001b[0m\u001b[0;34m)\u001b[0m\u001b[0;34m\u001b[0m\u001b[0m\n",
      "\u001b[0;32mh5py/_objects.pyx\u001b[0m in \u001b[0;36mh5py._objects.with_phil.wrapper\u001b[0;34m()\u001b[0m\n",
      "\u001b[0;32mh5py/_objects.pyx\u001b[0m in \u001b[0;36mh5py._objects.with_phil.wrapper\u001b[0;34m()\u001b[0m\n",
      "\u001b[0;32mh5py/h5f.pyx\u001b[0m in \u001b[0;36mh5py.h5f.open\u001b[0;34m()\u001b[0m\n",
      "\u001b[0;31mOSError\u001b[0m: Unable to open file (unable to open file: name = 'models/m1.h5', errno = 2, error message = 'No such file or directory', flags = 0, o_flags = 0)"
     ]
    }
   ],
   "source": [
    "model = load_model('models/m1.h5')"
   ]
  }
 ],
 "metadata": {
  "kernelspec": {
   "display_name": "Python [conda env:ML]",
   "language": "python",
   "name": "conda-env-ML-py"
  },
  "language_info": {
   "codemirror_mode": {
    "name": "ipython",
    "version": 3
   },
   "file_extension": ".py",
   "mimetype": "text/x-python",
   "name": "python",
   "nbconvert_exporter": "python",
   "pygments_lexer": "ipython3",
   "version": "3.5.4"
  }
 },
 "nbformat": 4,
 "nbformat_minor": 2
}
