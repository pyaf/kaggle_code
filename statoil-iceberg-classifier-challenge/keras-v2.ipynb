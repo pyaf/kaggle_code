{
 "cells": [
  {
   "cell_type": "code",
   "execution_count": 1,
   "metadata": {},
   "outputs": [
    {
     "name": "stderr",
     "output_type": "stream",
     "text": [
      "Using TensorFlow backend.\n"
     ]
    }
   ],
   "source": [
    "import pandas as pd\n",
    "import numpy as np\n",
    "import matplotlib.pyplot as plt\n",
    "import tensorflow as tf\n",
    "config = tf.ConfigProto()\n",
    "# config.gpu_options.allow_growth = True\n",
    "config.gpu_options.per_process_gpu_memory_fraction = 0.3\n",
    "tf.Session(config=config)\n",
    "\n",
    "from keras.models import *\n",
    "from keras.layers import *\n",
    "from keras.optimizers import *\n",
    "from keras.applications.vgg16 import VGG16\n",
    "from keras.applications.inception_v3 import InceptionV3\n",
    "from keras.callbacks import EarlyStopping\n",
    "from keras.utils import plot_model\n",
    "from keras.preprocessing.image import ImageDataGenerator\n",
    "from sklearn.model_selection import train_test_split\n",
    "from tqdm import tqdm\n",
    "%matplotlib inline\n",
    "\n",
    "from jupyterthemes import jtplot\n",
    "\n",
    "jtplot.style()"
   ]
  },
  {
   "cell_type": "markdown",
   "metadata": {},
   "source": [
    "## Data pipline"
   ]
  },
  {
   "cell_type": "code",
   "execution_count": 2,
   "metadata": {
    "collapsed": true
   },
   "outputs": [],
   "source": [
    "train = pd.read_json('data/train.json')\n",
    "train['inc_angle'] = pd.to_numeric(train['inc_angle'], errors='coerce') #133 NqNs\n",
    "train['inc_angle'] = train['inc_angle'].fillna(method='pad');\n",
    "\n",
    "test = pd.read_json('data/test.json')\n"
   ]
  },
  {
   "cell_type": "code",
   "execution_count": 3,
   "metadata": {
    "collapsed": true
   },
   "outputs": [],
   "source": [
    "train['inc_angle'] = pd.to_numeric(train['inc_angle'], errors='coerce') #133 NqNs\n",
    "train['inc_angle'] = train['inc_angle'].fillna(method='pad');"
   ]
  },
  {
   "cell_type": "code",
   "execution_count": 4,
   "metadata": {
    "collapsed": true
   },
   "outputs": [],
   "source": [
    "def get_training_data(df, angles=False, labels=False):\n",
    "    imgs = []\n",
    "    ylabels = []\n",
    "    inc_angles = []\n",
    "    for i, row in df.iterrows():\n",
    "        #make 75x75 image\n",
    "        band_1 = np.array(row['band_1']).reshape(75, 75)\n",
    "        band_2 = np.array(row['band_2']).reshape(75, 75)\n",
    "        band_3 = band_1 / band_2\n",
    "#         band_3 = band_1 + band_2 # plus since log(x*y) = log(x) + log(y)\n",
    "        \n",
    "        # Rescale\n",
    "#         a = (band_1 - band_1.mean()) / (band_1.max() - band_1.min())\n",
    "#         b = (band_2 - band_2.mean()) / (band_2.max() - band_2.min())\n",
    "#         c = (band_3 - band_3.mean()) / (band_3.max() - band_3.min())\n",
    "        \n",
    "        a = (band_1 + abs(band_1.min())) / np.max((band_1 + abs(band_1.min())))\n",
    "        b = (band_2 + abs(band_2.min())) / np.max((band_2 + abs(band_2.min())))\n",
    "        c = (band_3 + abs(band_3.min())) / np.max((band_3 + abs(band_3.min())))\n",
    "        \n",
    "        imgs.append(np.dstack((a, b, c)))\n",
    "        if labels:\n",
    "            ylabels.append(row['is_iceberg'])\n",
    "        if angles: \n",
    "            inc_angles.append(row['inc_angle'])\n",
    "    if angles and labels:    \n",
    "        return np.array(imgs), np.array(inc_angles), np.array(ylabels)\n",
    "    if labels:\n",
    "        return np.array(imgs), np.array(ylabels)\n",
    "    return np.array(imgs)\n",
    "        "
   ]
  },
  {
   "cell_type": "code",
   "execution_count": 5,
   "metadata": {
    "collapsed": true
   },
   "outputs": [],
   "source": [
    "X_train, inc_angles, Y_train = get_training_data(train, angles=True, labels=True)"
   ]
  },
  {
   "cell_type": "code",
   "execution_count": 6,
   "metadata": {
    "collapsed": true
   },
   "outputs": [],
   "source": [
    "X_test = get_training_data(test, angles=True)"
   ]
  },
  {
   "cell_type": "code",
   "execution_count": 7,
   "metadata": {},
   "outputs": [
    {
     "data": {
      "text/plain": [
       "((1604, 75, 75, 3), (1604,), (8424, 75, 75, 3))"
      ]
     },
     "execution_count": 7,
     "metadata": {},
     "output_type": "execute_result"
    }
   ],
   "source": [
    "X_train.shape, Y_train.shape, X_test.shape"
   ]
  },
  {
   "cell_type": "code",
   "execution_count": 39,
   "metadata": {
    "collapsed": true
   },
   "outputs": [],
   "source": [
    "gen = ImageDataGenerator(horizontal_flip = True,\n",
    "                         vertical_flip = True,\n",
    "                         width_shift_range = 0.1,\n",
    "                         height_shift_range = 0.1,\n",
    "                         channel_shift_range=0,\n",
    "                         zoom_range = 0.2,\n",
    "                         rotation_range = 10)"
   ]
  },
  {
   "cell_type": "code",
   "execution_count": 10,
   "metadata": {},
   "outputs": [],
   "source": [
    "def gen_flow_for_two_inputs(Xtrain, inc_angles, Ytrain):\n",
    "    g1 = gen.flow(Xtrain, inc_angles, batch_size=10, seed=5)\n",
    "    g2 = gen.flow(Xtrain, Ytrain, batch_size=10, seed=5)\n",
    "    while True:\n",
    "        i = g1.next()\n",
    "        j = g2.next()\n",
    "        yield [i[0], i[1]], j[1]    \n",
    "        \n",
    "# gen_flow_with_inc_angles = gen_flow_for_two_inputs(X_train, inc_angles, Y_train)"
   ]
  },
  {
   "cell_type": "code",
   "execution_count": 67,
   "metadata": {
    "collapsed": true
   },
   "outputs": [],
   "source": [
    "# Xtrain_data, Ytrain_data = get_training_data(train_data, labels=True)\n",
    "# Xdev_data, Ydev_data = get_training_data(dev_data, labels=True)"
   ]
  },
  {
   "cell_type": "code",
   "execution_count": 40,
   "metadata": {},
   "outputs": [],
   "source": [
    "train_gen = gen.flow(X_train, Y_train, seed=5)\n",
    "# dev_gen = gen.flow(Xdev_data, Ydev_data seed=5)\n"
   ]
  },
  {
   "cell_type": "code",
   "execution_count": 41,
   "metadata": {},
   "outputs": [
    {
     "name": "stderr",
     "output_type": "stream",
     "text": [
      "100%|██████████| 1000/1000 [02:08<00:00,  7.81it/s]\n"
     ]
    }
   ],
   "source": [
    "X_train_aug = []\n",
    "Y_train_aug = []\n",
    "for i in tqdm(range(1000)):\n",
    "    x, y = train_gen.next()\n",
    "    X_train_aug.extend(x)\n",
    "    Y_train_aug.extend(y)\n",
    "\n",
    "X_train_aug = np.asarray(X_train_aug)\n",
    "Y_train_aug = np.asarray(Y_train_aug)"
   ]
  },
  {
   "cell_type": "code",
   "execution_count": 42,
   "metadata": {},
   "outputs": [
    {
     "data": {
      "text/plain": [
       "((31468, 75, 75, 3), (31468,))"
      ]
     },
     "execution_count": 42,
     "metadata": {},
     "output_type": "execute_result"
    }
   ],
   "source": [
    "X_train_aug.shape, Y_train_aug.shape"
   ]
  },
  {
   "cell_type": "code",
   "execution_count": null,
   "metadata": {
    "collapsed": true
   },
   "outputs": [],
   "source": [
    "# train_data, dev_data = train_test_split(train, test_size=0.1,random_state=0, stratify=train['is_iceberg'])"
   ]
  },
  {
   "cell_type": "code",
   "execution_count": 15,
   "metadata": {
    "collapsed": true
   },
   "outputs": [],
   "source": [
    "def plot_training(history):\n",
    "    acc = history.history['acc']\n",
    "    val_acc = history.history['val_acc']\n",
    "    loss = history.history['loss']\n",
    "    val_loss = history.history['val_loss']\n",
    "    epochs = range(len(acc))\n",
    "    plt.figure(figsize=(10, 5))\n",
    "    plt.subplot(1, 2, 1,)\n",
    "    plt.plot(epochs, acc)\n",
    "    plt.plot(epochs, val_acc)\n",
    "    plt.legend(['train', 'val'], loc='upper left')\n",
    "    plt.title(' accuracy')\n",
    "\n",
    "\n",
    "    plt.subplot(1, 2, 2)\n",
    "    \n",
    "    plt.plot(epochs, loss)\n",
    "    plt.plot(epochs, val_loss)\n",
    "    plt.legend(['train', 'val'], loc='upper left')\n",
    "    plt.title('loss')\n",
    "    plt.show()"
   ]
  },
  {
   "cell_type": "markdown",
   "metadata": {
    "heading_collapsed": true
   },
   "source": [
    "### VGG Model with angle"
   ]
  },
  {
   "cell_type": "code",
   "execution_count": null,
   "metadata": {
    "collapsed": true,
    "hidden": true
   },
   "outputs": [],
   "source": [
    "def vggModel():\n",
    "    ang_input = Input(shape=[1], name='inc_angle')\n",
    "    x1 = Dense(1)(ang_input)\n",
    "    \n",
    "    base_model = VGG16(weights='imagenet', include_top=False, \n",
    "                         input_shape=(75, 75, 3), classes=1)\n",
    "    x2 = base_model.get_layer('block5_pool').output\n",
    "    x2 = GlobalMaxPooling2D()(x2)\n",
    "    x2 = Flatten()(x2)\n",
    "    X = Concatenate()([x2, x1])\n",
    "    \n",
    "#     X = Dropout(0.2)(X)\n",
    "    X = Dense(1024, activation='relu')(X)\n",
    "    X = Dropout(0.2)(X)\n",
    "    X = Dense(512, activation='relu')(X)\n",
    "    X = Dropout(0.2)(X)\n",
    "#     X = Dense(256, activation='relu')(X)\n",
    "#     X = Dropout(0.2)(X)\n",
    "    predictions = Dense(1, activation='sigmoid')(X)\n",
    "    \n",
    "    model = Model(inputs=[base_model.input, ang_input],\n",
    "                outputs=predictions)\n",
    "    \n",
    "    \n",
    "    for layer in model.layers[:19]:\n",
    "        layer.trainable = False\n",
    "    \n",
    "    sgd = SGD(lr=1e-3, decay=1e-6, momentum=0.9, nesterov=True)\n",
    "\n",
    "    print(model.summary())\n",
    "    model.compile(loss='binary_crossentropy',\n",
    "                 optimizer=sgd,\n",
    "                 metrics=['accuracy'])\n",
    "    \n",
    "    return model\n",
    "    "
   ]
  },
  {
   "cell_type": "code",
   "execution_count": null,
   "metadata": {
    "collapsed": true,
    "hidden": true
   },
   "outputs": [],
   "source": [
    "model = vggModel()"
   ]
  },
  {
   "cell_type": "code",
   "execution_count": null,
   "metadata": {
    "collapsed": true,
    "hidden": true
   },
   "outputs": [],
   "source": [
    "%%time\n",
    "model.fit_generator(\n",
    "    gen_flow_with_inc_angles,\n",
    "    steps_per_epoch=32,\n",
    "    epochs=30,\n",
    "    shuffle=True,\n",
    "    verbose=1,\n",
    "    validation_data=(Xdev, Ydev)\n",
    ")"
   ]
  },
  {
   "cell_type": "code",
   "execution_count": null,
   "metadata": {
    "collapsed": true,
    "hidden": true
   },
   "outputs": [],
   "source": [
    "acc = model.evaluate([Xtrain, inc_angles], Ytrain, verbose=1, batch_size=50)\n",
    "print('Train score', acc[0])\n",
    "print('Train accuracy', acc[1])"
   ]
  },
  {
   "cell_type": "markdown",
   "metadata": {},
   "source": [
    "### VGG model without angle layer"
   ]
  },
  {
   "cell_type": "code",
   "execution_count": 69,
   "metadata": {
    "collapsed": true
   },
   "outputs": [],
   "source": [
    "def vggModel2():\n",
    "\n",
    "    base_model = VGG16(weights='imagenet', include_top=False, \n",
    "                         input_shape=(75, 75, 3), classes=1)\n",
    "    X = base_model.get_layer('block5_pool').output\n",
    "#     X = GlobalMaxPooling2D()(X)\n",
    "    X = Flatten()(X)\n",
    "    X = Dense(256, activation='relu')(X)\n",
    "    X = Dropout(0.2)(X)\n",
    "#     X = Dense(256, activation='relu')(X)\n",
    "#     X = Dropout(0.2)(X)\n",
    "#     X = Dense(256, activation='relu')(X)\n",
    "#     X = Dropout(0.2)(X)\n",
    "    predictions = Dense(1, activation='sigmoid')(X)\n",
    "    \n",
    "    model = Model(inputs=base_model.input,\n",
    "                outputs=predictions)\n",
    "    \n",
    "    \n",
    "    for layer in model.layers[:19]:\n",
    "        layer.trainable = False\n",
    "    \n",
    "    sgd = SGD(lr=1e-3, decay=1e-6, momentum=0.9, nesterov=True)\n",
    "\n",
    "    print(model.summary())\n",
    "    model.compile(loss='binary_crossentropy',\n",
    "                 optimizer=sgd,\n",
    "                 metrics=['accuracy'])\n",
    "    \n",
    "    return model\n",
    "    "
   ]
  },
  {
   "cell_type": "code",
   "execution_count": null,
   "metadata": {
    "collapsed": true
   },
   "outputs": [],
   "source": [
    "model2 = vggModel2()"
   ]
  },
  {
   "cell_type": "code",
   "execution_count": null,
   "metadata": {
    "collapsed": true
   },
   "outputs": [],
   "source": [
    "model2.fit_generator(\n",
    "    gen_flow_without_inc_angles,\n",
    "    steps_per_epoch=1000,\n",
    "    epochs=100,\n",
    "    shuffle=True,\n",
    "    verbose=1,\n",
    "    validation_data=(Xdev, Ydev))"
   ]
  },
  {
   "cell_type": "code",
   "execution_count": null,
   "metadata": {
    "collapsed": true
   },
   "outputs": [],
   "source": [
    "acc = model2.evaluate(Xtrain, Ytrain, verbose=1, batch_size=50)\n",
    "print('Train score', acc[0])\n",
    "print('Train accuracy', acc[1])"
   ]
  },
  {
   "cell_type": "code",
   "execution_count": 70,
   "metadata": {},
   "outputs": [
    {
     "name": "stdout",
     "output_type": "stream",
     "text": [
      "_________________________________________________________________\n",
      "Layer (type)                 Output Shape              Param #   \n",
      "=================================================================\n",
      "input_11 (InputLayer)        (None, 75, 75, 3)         0         \n",
      "_________________________________________________________________\n",
      "block1_conv1 (Conv2D)        (None, 75, 75, 64)        1792      \n",
      "_________________________________________________________________\n",
      "block1_conv2 (Conv2D)        (None, 75, 75, 64)        36928     \n",
      "_________________________________________________________________\n",
      "block1_pool (MaxPooling2D)   (None, 37, 37, 64)        0         \n",
      "_________________________________________________________________\n",
      "block2_conv1 (Conv2D)        (None, 37, 37, 128)       73856     \n",
      "_________________________________________________________________\n",
      "block2_conv2 (Conv2D)        (None, 37, 37, 128)       147584    \n",
      "_________________________________________________________________\n",
      "block2_pool (MaxPooling2D)   (None, 18, 18, 128)       0         \n",
      "_________________________________________________________________\n",
      "block3_conv1 (Conv2D)        (None, 18, 18, 256)       295168    \n",
      "_________________________________________________________________\n",
      "block3_conv2 (Conv2D)        (None, 18, 18, 256)       590080    \n",
      "_________________________________________________________________\n",
      "block3_conv3 (Conv2D)        (None, 18, 18, 256)       590080    \n",
      "_________________________________________________________________\n",
      "block3_pool (MaxPooling2D)   (None, 9, 9, 256)         0         \n",
      "_________________________________________________________________\n",
      "block4_conv1 (Conv2D)        (None, 9, 9, 512)         1180160   \n",
      "_________________________________________________________________\n",
      "block4_conv2 (Conv2D)        (None, 9, 9, 512)         2359808   \n",
      "_________________________________________________________________\n",
      "block4_conv3 (Conv2D)        (None, 9, 9, 512)         2359808   \n",
      "_________________________________________________________________\n",
      "block4_pool (MaxPooling2D)   (None, 4, 4, 512)         0         \n",
      "_________________________________________________________________\n",
      "block5_conv1 (Conv2D)        (None, 4, 4, 512)         2359808   \n",
      "_________________________________________________________________\n",
      "block5_conv2 (Conv2D)        (None, 4, 4, 512)         2359808   \n",
      "_________________________________________________________________\n",
      "block5_conv3 (Conv2D)        (None, 4, 4, 512)         2359808   \n",
      "_________________________________________________________________\n",
      "block5_pool (MaxPooling2D)   (None, 2, 2, 512)         0         \n",
      "_________________________________________________________________\n",
      "flatten_11 (Flatten)         (None, 2048)              0         \n",
      "_________________________________________________________________\n",
      "dense_33 (Dense)             (None, 256)               524544    \n",
      "_________________________________________________________________\n",
      "dropout_59 (Dropout)         (None, 256)               0         \n",
      "_________________________________________________________________\n",
      "dense_34 (Dense)             (None, 1)                 257       \n",
      "=================================================================\n",
      "Total params: 15,239,489\n",
      "Trainable params: 524,801\n",
      "Non-trainable params: 14,714,688\n",
      "_________________________________________________________________\n",
      "None\n"
     ]
    }
   ],
   "source": [
    "model2_ = vggModel2()"
   ]
  },
  {
   "cell_type": "code",
   "execution_count": 73,
   "metadata": {},
   "outputs": [
    {
     "name": "stdout",
     "output_type": "stream",
     "text": [
      "Train on 1443 samples, validate on 161 samples\n",
      "Epoch 1/20\n",
      "1443/1443 [==============================] - 2s 2ms/step - loss: 0.3813 - acc: 0.8115 - val_loss: 0.4851 - val_acc: 0.7391\n",
      "Epoch 2/20\n",
      "1443/1443 [==============================] - 2s 2ms/step - loss: 0.3855 - acc: 0.8108 - val_loss: 0.4899 - val_acc: 0.7391\n",
      "Epoch 3/20\n",
      "1443/1443 [==============================] - 2s 1ms/step - loss: 0.3773 - acc: 0.8212 - val_loss: 0.4819 - val_acc: 0.7391\n",
      "Epoch 4/20\n",
      "1443/1443 [==============================] - 2s 2ms/step - loss: 0.3787 - acc: 0.8198 - val_loss: 0.4825 - val_acc: 0.7329\n",
      "Epoch 5/20\n",
      "1443/1443 [==============================] - 2s 2ms/step - loss: 0.3773 - acc: 0.8164 - val_loss: 0.4806 - val_acc: 0.7267\n",
      "Epoch 6/20\n",
      "1443/1443 [==============================] - 2s 1ms/step - loss: 0.3741 - acc: 0.8330 - val_loss: 0.4805 - val_acc: 0.7267\n",
      "Epoch 7/20\n",
      "1443/1443 [==============================] - 2s 1ms/step - loss: 0.3673 - acc: 0.8233 - val_loss: 0.4821 - val_acc: 0.7453\n",
      "Epoch 8/20\n",
      "1443/1443 [==============================] - 2s 1ms/step - loss: 0.3760 - acc: 0.8129 - val_loss: 0.4845 - val_acc: 0.7453\n",
      "Epoch 9/20\n",
      "1443/1443 [==============================] - 2s 1ms/step - loss: 0.3703 - acc: 0.8274 - val_loss: 0.4778 - val_acc: 0.7267\n",
      "Epoch 10/20\n",
      "1443/1443 [==============================] - 2s 1ms/step - loss: 0.3705 - acc: 0.8226 - val_loss: 0.4805 - val_acc: 0.7329\n",
      "Epoch 11/20\n",
      "1443/1443 [==============================] - 2s 1ms/step - loss: 0.3701 - acc: 0.8170 - val_loss: 0.4985 - val_acc: 0.7453\n",
      "Epoch 12/20\n",
      "1443/1443 [==============================] - 2s 1ms/step - loss: 0.3710 - acc: 0.8191 - val_loss: 0.4760 - val_acc: 0.7267\n",
      "Epoch 13/20\n",
      "1443/1443 [==============================] - 2s 2ms/step - loss: 0.3628 - acc: 0.8323 - val_loss: 0.4782 - val_acc: 0.7391\n",
      "Epoch 14/20\n",
      "1443/1443 [==============================] - 2s 1ms/step - loss: 0.3664 - acc: 0.8295 - val_loss: 0.4793 - val_acc: 0.7453TA: 0s - loss: 0.3718 \n",
      "Epoch 15/20\n",
      "1443/1443 [==============================] - 2s 2ms/step - loss: 0.3652 - acc: 0.8254 - val_loss: 0.4783 - val_acc: 0.7267\n",
      "Epoch 16/20\n",
      "1443/1443 [==============================] - 2s 1ms/step - loss: 0.3654 - acc: 0.8267 - val_loss: 0.4844 - val_acc: 0.7453\n",
      "Epoch 17/20\n",
      "1443/1443 [==============================] - 2s 2ms/step - loss: 0.3599 - acc: 0.8261 - val_loss: 0.4766 - val_acc: 0.7329\n",
      "Epoch 18/20\n",
      "1443/1443 [==============================] - 2s 2ms/step - loss: 0.3596 - acc: 0.8261 - val_loss: 0.4847 - val_acc: 0.7391\n",
      "Epoch 19/20\n",
      "1443/1443 [==============================] - 2s 1ms/step - loss: 0.3658 - acc: 0.8261 - val_loss: 0.4778 - val_acc: 0.7329\n",
      "Epoch 20/20\n",
      "1443/1443 [==============================] - 2s 1ms/step - loss: 0.3558 - acc: 0.8378 - val_loss: 0.4810 - val_acc: 0.7391\n",
      "CPU times: user 12.9 s, sys: 1.56 s, total: 14.4 s\n",
      "Wall time: 43.1 s\n"
     ]
    },
    {
     "data": {
      "text/plain": [
       "<keras.callbacks.History at 0x7f70a937ef28>"
      ]
     },
     "execution_count": 73,
     "metadata": {},
     "output_type": "execute_result"
    }
   ],
   "source": [
    "%%time\n",
    "model2_.fit(Xtrain, Ytrain, batch_size=50, epochs=20, verbose=1, validation_data=(Xdev, Ydev))\n"
   ]
  },
  {
   "cell_type": "markdown",
   "metadata": {},
   "source": [
    "### CNN without transfer learning"
   ]
  },
  {
   "cell_type": "code",
   "execution_count": 53,
   "metadata": {
    "collapsed": true
   },
   "outputs": [],
   "source": [
    "def CNN_without_tl():\n",
    "    #Build keras model\n",
    "    \n",
    "    input_img = Input(shape=(75, 75, 3))\n",
    "    \n",
    "    # CNN 1\n",
    "    X = Conv2D(32, kernel_size=(2, 2),activation='relu')(input_img)\n",
    "    \n",
    "    X = MaxPooling2D(pool_size=(2, 2), strides=(2, 2))(X)\n",
    "    X = Dropout(0.3)(X)\n",
    "\n",
    "    # CNN 2\n",
    "    X = Conv2D(64, kernel_size=(2, 2),activation='relu')(X)\n",
    "    \n",
    "    X = MaxPooling2D(pool_size=(2, 2), strides=(2, 2))(X)\n",
    "    X = Dropout(0.3)(X)\n",
    "    # CNN 3\n",
    "    X = Conv2D(128, kernel_size=(2, 2),activation='relu')(X)\n",
    "    \n",
    "    X = MaxPooling2D(pool_size=(2, 2), strides=(2, 2))(X)\n",
    "    X = Dropout(0.3)(X)\n",
    "\n",
    "    #CNN 4\n",
    "    X = Conv2D(256, kernel_size=(2, 2),activation='relu')(X)\n",
    "    X = MaxPooling2D(pool_size=(2, 2), strides=(2, 2))(X)\n",
    "    X = Dropout(0.2)(X)\n",
    "\n",
    "    X = Conv2D(512, kernel_size=(2, 2),activation='relu')(X)\n",
    "    X = MaxPooling2D(pool_size=(2, 2), strides=(2, 2))(X)\n",
    "    X = Dropout(0.2)(X)\n",
    "\n",
    "\n",
    "    \n",
    "    # You must flatten the data for the dense layers\n",
    "    X = Flatten()(X)\n",
    "\n",
    "    #Dense 1\n",
    "    X = Dense(1024, activation='relu')(X)\n",
    "#     model.add(BatchNormalization())\n",
    "    X = Dropout(0.5)(X)\n",
    "\n",
    "    #Dense 2\n",
    "    X = Dense(1024, activation='relu')(X)\n",
    "#     model.add(BatchNormalization())\n",
    "    X = Dropout(0.5)(X)\n",
    "    \n",
    "    X = Dense(1024, activation='relu')(X)\n",
    "#     model.add(BatchNormalization())\n",
    "    X = Dropout(0.5)(X)\n",
    "    \n",
    "    \n",
    "    X = Dense(512, activation='relu')(X)\n",
    "#     model.add(BatchNormalization())\n",
    "    X = Dropout(0.5)(X)\n",
    "    \n",
    "    \n",
    "    X = Dense(512, activation='relu')(X)\n",
    "#     model.add(BatchNormalization())\n",
    "    X = Dropout(0.5)(X)\n",
    "    # Output \n",
    "    X = Dense(1, activation=\"sigmoid\")(X)\n",
    "\n",
    "#     optimizer = Adam(lr=0.001, decay=0.0)\n",
    "    model = Model(inputs=input_img, outputs=X)\n",
    "    model.compile(loss='binary_crossentropy', optimizer='rmsprop', metrics=['accuracy'])\n",
    "    \n",
    "#     print(model.summary())\n",
    "    return model"
   ]
  },
  {
   "cell_type": "code",
   "execution_count": 54,
   "metadata": {
    "collapsed": true
   },
   "outputs": [],
   "source": [
    "model3 = CNN_without_tl()"
   ]
  },
  {
   "cell_type": "code",
   "execution_count": null,
   "metadata": {
    "collapsed": true
   },
   "outputs": [],
   "source": [
    "# batch_size = 100\n",
    "# for epoch in range(10):\n",
    "# #     print('epoch', epoch)\n",
    "#     i = 0\n",
    "#     for x_batch, y_batch in gen.flow(X_train, Y_train, batch_size=batch_size):\n",
    "#         model3.fit(x_batch, y_batch, batch_size=batch_size, verbose=0, validation_split=0.2)\n",
    "#         i+=1\n",
    "#         if i > len(X_train) // batch_size:\n",
    "#             print(model3.evaluate(X_train, Y_train, verbose=0, batch_size=50))\n",
    "#             break\n",
    "            "
   ]
  },
  {
   "cell_type": "code",
   "execution_count": 57,
   "metadata": {},
   "outputs": [
    {
     "name": "stdout",
     "output_type": "stream",
     "text": [
      "Train on 25174 samples, validate on 6294 samples\n",
      "Epoch 1/20\n",
      "25174/25174 [==============================] - 28s 1ms/step - loss: 0.5733 - acc: 0.7384 - val_loss: 0.7266 - val_acc: 0.5296\n",
      "Epoch 2/20\n",
      "25174/25174 [==============================] - 28s 1ms/step - loss: 0.6222 - acc: 0.7250 - val_loss: 0.6750 - val_acc: 0.5303\n",
      "Epoch 3/20\n",
      "25174/25174 [==============================] - 28s 1ms/step - loss: 0.6057 - acc: 0.7256 - val_loss: 0.6451 - val_acc: 0.5296\n",
      "Epoch 4/20\n",
      "25174/25174 [==============================] - 28s 1ms/step - loss: 0.6651 - acc: 0.7111 - val_loss: 0.6655 - val_acc: 0.5338\n",
      "Epoch 5/20\n",
      "25174/25174 [==============================] - 30s 1ms/step - loss: 0.6968 - acc: 0.6873 - val_loss: 0.6115 - val_acc: 0.6336\n",
      "Epoch 6/20\n",
      "25174/25174 [==============================] - 28s 1ms/step - loss: 0.6935 - acc: 0.6600 - val_loss: 0.6529 - val_acc: 0.5639\n",
      "Epoch 7/20\n",
      "25174/25174 [==============================] - 30s 1ms/step - loss: 0.7441 - acc: 0.6879 - val_loss: 0.6982 - val_acc: 0.5297\n",
      "Epoch 8/20\n",
      "25174/25174 [==============================] - 28s 1ms/step - loss: 0.6552 - acc: 0.6812 - val_loss: 0.6737 - val_acc: 0.5648\n",
      "Epoch 00008: early stopping\n",
      "CPU times: user 1min 55s, sys: 25.9 s, total: 2min 21s\n",
      "Wall time: 3min 47s\n"
     ]
    }
   ],
   "source": [
    "%%time\n",
    "model_history3 = model3.fit(X_train_aug, Y_train_aug, batch_size=100, epochs=20, verbose=1, validation_split=0.3,\n",
    "          callbacks=[EarlyStopping(monitor='val_acc', patience=3, verbose=1)])\n"
   ]
  },
  {
   "cell_type": "code",
   "execution_count": 58,
   "metadata": {},
   "outputs": [
    {
     "data": {
      "image/png": "[encoded data removed]",
      "text/plain": [
       "<matplotlib.figure.Figure at 0x7f17623eb8d0>"
      ]
     },
     "metadata": {},
     "output_type": "display_data"
    }
   ],
   "source": [
    "plot_training(model_history3)"
   ]
  },
  {
   "cell_type": "code",
   "execution_count": 38,
   "metadata": {},
   "outputs": [
    {
     "name": "stdout",
     "output_type": "stream",
     "text": [
      "31468/31468 [==============================] - 14s 460us/step\n",
      "Train score 0.356533714351\n",
      "Train accuracy 0.817719583353\n"
     ]
    }
   ],
   "source": [
    "acc = model3.evaluate(X_train_aug, Y_train_aug, verbose=1, batch_size=50)\n",
    "print('Train score', acc[0])\n",
    "print('Train accuracy', acc[1])"
   ]
  },
  {
   "cell_type": "code",
   "execution_count": 22,
   "metadata": {
    "collapsed": true
   },
   "outputs": [
    {
     "name": "stdout",
     "output_type": "stream",
     "text": [
      "_________________________________________________________________\n",
      "Layer (type)                 Output Shape              Param #   \n",
      "=================================================================\n",
      "input_3 (InputLayer)         (None, 75, 75, 3)         0         \n",
      "_________________________________________________________________\n",
      "conv2d_10 (Conv2D)           (None, 74, 74, 32)        416       \n",
      "_________________________________________________________________\n",
      "max_pooling2d_10 (MaxPooling (None, 37, 37, 32)        0         \n",
      "_________________________________________________________________\n",
      "dropout_20 (Dropout)         (None, 37, 37, 32)        0         \n",
      "_________________________________________________________________\n",
      "conv2d_11 (Conv2D)           (None, 36, 36, 64)        8256      \n",
      "_________________________________________________________________\n",
      "max_pooling2d_11 (MaxPooling (None, 18, 18, 64)        0         \n",
      "_________________________________________________________________\n",
      "dropout_21 (Dropout)         (None, 18, 18, 64)        0         \n",
      "_________________________________________________________________\n",
      "conv2d_12 (Conv2D)           (None, 17, 17, 128)       32896     \n",
      "_________________________________________________________________\n",
      "max_pooling2d_12 (MaxPooling (None, 8, 8, 128)         0         \n",
      "_________________________________________________________________\n",
      "dropout_22 (Dropout)         (None, 8, 8, 128)         0         \n",
      "_________________________________________________________________\n",
      "conv2d_13 (Conv2D)           (None, 7, 7, 256)         131328    \n",
      "_________________________________________________________________\n",
      "max_pooling2d_13 (MaxPooling (None, 3, 3, 256)         0         \n",
      "_________________________________________________________________\n",
      "dropout_23 (Dropout)         (None, 3, 3, 256)         0         \n",
      "_________________________________________________________________\n",
      "conv2d_14 (Conv2D)           (None, 2, 2, 512)         524800    \n",
      "_________________________________________________________________\n",
      "max_pooling2d_14 (MaxPooling (None, 1, 1, 512)         0         \n",
      "_________________________________________________________________\n",
      "dropout_24 (Dropout)         (None, 1, 1, 512)         0         \n",
      "_________________________________________________________________\n",
      "flatten_3 (Flatten)          (None, 512)               0         \n",
      "_________________________________________________________________\n",
      "dense_13 (Dense)             (None, 1024)              525312    \n",
      "_________________________________________________________________\n",
      "dropout_25 (Dropout)         (None, 1024)              0         \n",
      "_________________________________________________________________\n",
      "dense_14 (Dense)             (None, 1024)              1049600   \n",
      "_________________________________________________________________\n",
      "dropout_26 (Dropout)         (None, 1024)              0         \n",
      "_________________________________________________________________\n",
      "dense_15 (Dense)             (None, 1024)              1049600   \n",
      "_________________________________________________________________\n",
      "dropout_27 (Dropout)         (None, 1024)              0         \n",
      "_________________________________________________________________\n",
      "dense_16 (Dense)             (None, 512)               524800    \n",
      "_________________________________________________________________\n",
      "dropout_28 (Dropout)         (None, 512)               0         \n",
      "_________________________________________________________________\n",
      "dense_17 (Dense)             (None, 512)               262656    \n",
      "_________________________________________________________________\n",
      "dropout_29 (Dropout)         (None, 512)               0         \n",
      "_________________________________________________________________\n",
      "dense_18 (Dense)             (None, 1)                 513       \n",
      "=================================================================\n",
      "Total params: 4,110,177\n",
      "Trainable params: 4,110,177\n",
      "Non-trainable params: 0\n",
      "_________________________________________________________________\n",
      "None\n"
     ]
    }
   ],
   "source": [
    "model4 = CNN_without_tl() #with generator"
   ]
  },
  {
   "cell_type": "code",
   "execution_count": 24,
   "metadata": {},
   "outputs": [
    {
     "name": "stdout",
     "output_type": "stream",
     "text": [
      "Epoch 1/10\n",
      "100/100 [==============================] - 4s 40ms/step - loss: 0.6919 - acc: 0.5310 - val_loss: 0.6916 - val_acc: 0.5280\n",
      "Epoch 2/10\n",
      "100/100 [==============================] - 4s 38ms/step - loss: 0.6962 - acc: 0.5100 - val_loss: 0.6927 - val_acc: 0.5280\n",
      "Epoch 3/10\n",
      "100/100 [==============================] - 4s 39ms/step - loss: 0.6920 - acc: 0.5340 - val_loss: 0.6927 - val_acc: 0.5280\n",
      "Epoch 4/10\n",
      "100/100 [==============================] - 4s 39ms/step - loss: 0.6936 - acc: 0.5250 - val_loss: 0.6917 - val_acc: 0.5280\n",
      "Epoch 5/10\n",
      "100/100 [==============================] - 4s 38ms/step - loss: 0.6918 - acc: 0.5320 - val_loss: 0.6917 - val_acc: 0.5280\n",
      "Epoch 6/10\n",
      "100/100 [==============================] - 4s 39ms/step - loss: 0.6922 - acc: 0.5313 - val_loss: 0.6927 - val_acc: 0.5280\n",
      "Epoch 7/10\n",
      "100/100 [==============================] - 4s 39ms/step - loss: 0.6939 - acc: 0.5277 - val_loss: 0.6919 - val_acc: 0.5280\n",
      "Epoch 8/10\n",
      "100/100 [==============================] - 4s 39ms/step - loss: 0.6927 - acc: 0.5480 - val_loss: 0.6917 - val_acc: 0.5280\n",
      "Epoch 9/10\n",
      "100/100 [==============================] - 4s 37ms/step - loss: 0.6902 - acc: 0.5376 - val_loss: 0.6923 - val_acc: 0.5280\n",
      "Epoch 10/10\n",
      "100/100 [==============================] - 4s 39ms/step - loss: 0.7020 - acc: 0.5090 - val_loss: 0.6920 - val_acc: 0.5280\n"
     ]
    },
    {
     "data": {
      "text/plain": [
       "<keras.callbacks.History at 0x7f1befa56f98>"
      ]
     },
     "execution_count": 24,
     "metadata": {},
     "output_type": "execute_result"
    }
   ],
   "source": [
    "model4.fit_generator(\n",
    "    gen_flow_without_inc_angles,\n",
    "    steps_per_epoch=100,\n",
    "    epochs=10,\n",
    "    shuffle=True,\n",
    "    verbose=1,\n",
    "    validation_data=(Xdev, Ydev))"
   ]
  },
  {
   "cell_type": "markdown",
   "metadata": {},
   "source": [
    "## InceptionV3"
   ]
  },
  {
   "cell_type": "code",
   "execution_count": 59,
   "metadata": {
    "collapsed": true
   },
   "outputs": [],
   "source": [
    "def top_model(input_shape):\n",
    "    input_img = Input(input_shape)\n",
    "    X = GlobalAveragePooling2D()(input_img)\n",
    "#     X = Flatten(input_shape=input_shape)(input_img)\n",
    "    X = Dropout(0.2)(X)   \n",
    "    \n",
    "    X = Dense(4096, activation='relu')(X)\n",
    "    X = Dropout(0.5)(X)\n",
    "    X = Dense(4096, activation='relu')(X)\n",
    "    X = Dropout(0.5)(X)\n",
    "#     X = Dense(512, activation='relu')(X)\n",
    "#     X = Dropout(0.5)(X)\n",
    "#     X = Dense(512, activation='relu')(X)\n",
    "#     X = Dropout(0.5)(X)\n",
    "    X = Dense(1, activation='sigmoid')(X)\n",
    "    \n",
    "    model = Model(inputs=input_img, outputs=X)\n",
    "    \n",
    "    model.compile(loss='binary_crossentropy',\n",
    "                 optimizer='adam',#optimizers.SGD(lr=1e-4, momentum=0.9),#'adam',\n",
    "                 metrics=['accuracy'])\n",
    "    \n",
    "    return model"
   ]
  },
  {
   "cell_type": "code",
   "execution_count": 18,
   "metadata": {
    "collapsed": true
   },
   "outputs": [],
   "source": [
    "inception_model = InceptionV3(input_tensor=Input((75, 75, 3)), weights='imagenet', include_top=False)"
   ]
  },
  {
   "cell_type": "code",
   "execution_count": 20,
   "metadata": {},
   "outputs": [
    {
     "name": "stdout",
     "output_type": "stream",
     "text": [
      "31468/31468 [==============================] - 72s 2ms/step\n",
      "8424/8424 [==============================] - 20s 2ms/step\n"
     ]
    }
   ],
   "source": [
    "inc_train_bf = inception_model.predict(X_train_aug, verbose=1)\n",
    "inc_test_bf = inception_model.predict(X_test, verbose=1)"
   ]
  },
  {
   "cell_type": "code",
   "execution_count": 80,
   "metadata": {
    "collapsed": true
   },
   "outputs": [],
   "source": [
    "# Xtrain_data_bf, Xdev_data_bf, Ytrain_data_bf, Ydev_data_bf = train_test_split(inc_train_bf, Y_train, test_size=0.1, random_state=0)"
   ]
  },
  {
   "cell_type": "code",
   "execution_count": 98,
   "metadata": {
    "collapsed": true
   },
   "outputs": [],
   "source": [
    "# train_gen = gen.flow(Xtrain_data_bf, Ytrain_data_bf, batch_size=10, seed=5)\n",
    "# dev_gen = gen.flow(Xdev_data_bf, Ydev_data_bf, batch_size=10, seed=5)"
   ]
  },
  {
   "cell_type": "code",
   "execution_count": 73,
   "metadata": {
    "collapsed": true
   },
   "outputs": [],
   "source": [
    "# bottleneck_features_train = inception_model.predict_generator(train_gen, 1400)#80% of train\n",
    "# bottleneck_features_validation = inception_model.predict_generator(dev_gen, 160)\n"
   ]
  },
  {
   "cell_type": "code",
   "execution_count": 77,
   "metadata": {},
   "outputs": [
    {
     "data": {
      "text/plain": [
       "(13937, 1, 1, 2048)"
      ]
     },
     "execution_count": 77,
     "metadata": {},
     "output_type": "execute_result"
    }
   ],
   "source": [
    "# bottleneck_features_train.shape"
   ]
  },
  {
   "cell_type": "code",
   "execution_count": 60,
   "metadata": {
    "collapsed": true
   },
   "outputs": [],
   "source": [
    "inctop_model = top_model(inc_train_bf.shape[1:])"
   ]
  },
  {
   "cell_type": "code",
   "execution_count": null,
   "metadata": {
    "collapsed": true
   },
   "outputs": [],
   "source": [
    "# %%time\n",
    "# model.fit_generator(\n",
    "#     train_gen,\n",
    "#     steps_per_epoch=32,\n",
    "#     epochs=30,\n",
    "#     shuffle=True,\n",
    "#     verbose=1,\n",
    "#     validation_data=(Xdev, Ydev)\n",
    "# )"
   ]
  },
  {
   "cell_type": "code",
   "execution_count": 61,
   "metadata": {},
   "outputs": [
    {
     "name": "stdout",
     "output_type": "stream",
     "text": [
      "Train on 28321 samples, validate on 3147 samples\n",
      "Epoch 1/20\n",
      "28321/28321 [==============================] - 30s 1ms/step - loss: 0.5861 - acc: 0.7382 - val_loss: 0.4230 - val_acc: 0.7795\n",
      "Epoch 2/20\n",
      "28321/28321 [==============================] - 22s 770us/step - loss: 0.4428 - acc: 0.7690 - val_loss: 0.4127 - val_acc: 0.7846\n",
      "Epoch 3/20\n",
      "28321/28321 [==============================] - 22s 789us/step - loss: 0.4239 - acc: 0.7833 - val_loss: 0.3929 - val_acc: 0.8004\n",
      "Epoch 4/20\n",
      "28321/28321 [==============================] - 22s 788us/step - loss: 0.4112 - acc: 0.7900 - val_loss: 0.3854 - val_acc: 0.8049\n",
      "Epoch 5/20\n",
      "28321/28321 [==============================] - 22s 777us/step - loss: 0.4031 - acc: 0.7991 - val_loss: 0.3751 - val_acc: 0.8036\n",
      "Epoch 6/20\n",
      "28321/28321 [==============================] - 22s 787us/step - loss: 0.3948 - acc: 0.8000 - val_loss: 0.3725 - val_acc: 0.8106\n",
      "Epoch 7/20\n",
      "28321/28321 [==============================] - 22s 784us/step - loss: 0.3877 - acc: 0.8066 - val_loss: 0.3764 - val_acc: 0.8116\n",
      "Epoch 8/20\n",
      "28321/28321 [==============================] - 22s 779us/step - loss: 0.3804 - acc: 0.8120 - val_loss: 0.3708 - val_acc: 0.8135\n",
      "Epoch 9/20\n",
      "28321/28321 [==============================] - 22s 779us/step - loss: 0.3777 - acc: 0.8118 - val_loss: 0.3787 - val_acc: 0.8039\n",
      "Epoch 10/20\n",
      "28321/28321 [==============================] - 23s 804us/step - loss: 0.3723 - acc: 0.8138 - val_loss: 0.3615 - val_acc: 0.8151\n",
      "Epoch 11/20\n",
      "28321/28321 [==============================] - 22s 782us/step - loss: 0.3662 - acc: 0.8188 - val_loss: 0.3724 - val_acc: 0.8198\n",
      "Epoch 12/20\n",
      "28321/28321 [==============================] - 22s 774us/step - loss: 0.3616 - acc: 0.8203 - val_loss: 0.3709 - val_acc: 0.8167\n",
      "Epoch 13/20\n",
      "28321/28321 [==============================] - 22s 794us/step - loss: 0.3573 - acc: 0.8250 - val_loss: 0.3540 - val_acc: 0.8281\n",
      "Epoch 14/20\n",
      "28321/28321 [==============================] - 23s 826us/step - loss: 0.3540 - acc: 0.8260 - val_loss: 0.3594 - val_acc: 0.8240\n",
      "Epoch 15/20\n",
      "28321/28321 [==============================] - 22s 778us/step - loss: 0.3501 - acc: 0.8279 - val_loss: 0.3574 - val_acc: 0.8255\n",
      "Epoch 16/20\n",
      "28321/28321 [==============================] - 23s 816us/step - loss: 0.3388 - acc: 0.8356 - val_loss: 0.3639 - val_acc: 0.8224\n",
      "Epoch 00016: early stopping\n"
     ]
    }
   ],
   "source": [
    "inc_history = inctop_model.fit(inc_train_bf, Y_train_aug, batch_size=100, epochs=20, validation_split=0.1,\n",
    "             callbacks=[EarlyStopping(monitor='val_acc', patience=3, verbose=1)])"
   ]
  },
  {
   "cell_type": "code",
   "execution_count": 62,
   "metadata": {},
   "outputs": [
    {
     "data": {
      "image/png": "[encoded data removed]",
      "text/plain": [
       "<matplotlib.figure.Figure at 0x7f1782837fd0>"
      ]
     },
     "metadata": {},
     "output_type": "display_data"
    }
   ],
   "source": [
    "plot_training(inc_history)"
   ]
  },
  {
   "cell_type": "code",
   "execution_count": 63,
   "metadata": {
    "collapsed": true
   },
   "outputs": [],
   "source": [
    "inctop_model.save_weights('models/inctop_model.h5')"
   ]
  },
  {
   "cell_type": "code",
   "execution_count": 64,
   "metadata": {},
   "outputs": [
    {
     "name": "stdout",
     "output_type": "stream",
     "text": [
      "1604/1604 [==============================] - 4s 2ms/step\n",
      "1604/1604 [==============================] - 0s 131us/step\n",
      "Train score 0.316170455995\n",
      "Train accuracy 0.842892758121\n"
     ]
    }
   ],
   "source": [
    "incx = inception_model.predict(X_train, verbose=1)\n",
    "acc = inctop_model.evaluate(incx, Y_train, verbose=1, batch_size=50)\n",
    "print('Train score', acc[0])\n",
    "print('Train accuracy', acc[1])"
   ]
  },
  {
   "cell_type": "markdown",
   "metadata": {},
   "source": [
    "## Fine tuning "
   ]
  },
  {
   "cell_type": "code",
   "execution_count": 65,
   "metadata": {
    "collapsed": true
   },
   "outputs": [],
   "source": [
    "def ft_model(base_model, top_model_weights_path):\n",
    "    \n",
    "    top = top_model(base_model.output_shape[1:])\n",
    "    top.load_weights(top_model_weights_path)\n",
    "#     x = base_model.predict(X_train)\n",
    "#     print(top.evaluate(x, Y_train))\n",
    "    ft_model = Model(inputs=base_model.inputs, outputs=top(base_model.output))\n",
    "    \n",
    "    ft_model.compile(loss='binary_crossentropy',\n",
    "                 optimizer=SGD(lr=1e-4, momentum=0.9),\n",
    "                 metrics=['accuracy'])\n",
    "    \n",
    "    return ft_model\n",
    "    "
   ]
  },
  {
   "cell_type": "code",
   "execution_count": 66,
   "metadata": {
    "collapsed": true
   },
   "outputs": [],
   "source": [
    "inception_model = InceptionV3(input_tensor=Input((75, 75, 3)), weights='imagenet', include_top=False)\n",
    "for layer in inception_model.layers[:299]:\n",
    "    layer.trainable = False"
   ]
  },
  {
   "cell_type": "code",
   "execution_count": 67,
   "metadata": {
    "collapsed": true
   },
   "outputs": [],
   "source": [
    "inc_ft_model = ft_model(inception_model, 'models/inctop_model.h5')"
   ]
  },
  {
   "cell_type": "code",
   "execution_count": 103,
   "metadata": {},
   "outputs": [
    {
     "name": "stdout",
     "output_type": "stream",
     "text": [
      "Epoch 1/20\n",
      "140/140 [==============================] - 24s 171ms/step - loss: 1.1375 - acc: 0.5202 - val_loss: 1.7894 - val_acc: 0.4688\n",
      "Epoch 2/20\n",
      "140/140 [==============================] - 11s 79ms/step - loss: 0.7849 - acc: 0.5093 - val_loss: 1.0200 - val_acc: 0.5625\n",
      "Epoch 3/20\n",
      "140/140 [==============================] - 11s 77ms/step - loss: 0.7700 - acc: 0.4912 - val_loss: 0.8723 - val_acc: 0.5000\n",
      "Epoch 4/20\n",
      "140/140 [==============================] - 11s 77ms/step - loss: 0.7298 - acc: 0.5362 - val_loss: 1.3200 - val_acc: 0.4313\n",
      "Epoch 5/20\n",
      "140/140 [==============================] - 11s 79ms/step - loss: 0.7257 - acc: 0.5355 - val_loss: 0.8140 - val_acc: 0.5313\n",
      "Epoch 00005: early stopping\n"
     ]
    }
   ],
   "source": [
    "inc_ft_history = inc_ft_model.fit_generator(\n",
    "    train_gen,\n",
    "    steps_per_epoch=140,\n",
    "    epochs=20,\n",
    "    validation_data=dev_gen,\n",
    "    validation_steps=16,\n",
    "    callbacks=[EarlyStopping(monitor='val_acc', patience=3, verbose=1)])"
   ]
  },
  {
   "cell_type": "code",
   "execution_count": 68,
   "metadata": {
    "collapsed": true
   },
   "outputs": [],
   "source": [
    "inc_ft_model2 = ft_model(inception_model, 'models/inctop_model.h5')"
   ]
  },
  {
   "cell_type": "code",
   "execution_count": 69,
   "metadata": {},
   "outputs": [
    {
     "name": "stdout",
     "output_type": "stream",
     "text": [
      "Train on 1443 samples, validate on 161 samples\n",
      "Epoch 1/20\n",
      "1443/1443 [==============================] - 28s 19ms/step - loss: 4.1718 - acc: 0.4962 - val_loss: 3.5665 - val_acc: 0.7329\n",
      "Epoch 2/20\n",
      "1443/1443 [==============================] - 13s 9ms/step - loss: 2.5817 - acc: 0.5087 - val_loss: 9.6482 - val_acc: 0.2174\n",
      "Epoch 3/20\n",
      "1443/1443 [==============================] - 14s 9ms/step - loss: 3.2390 - acc: 0.5336 - val_loss: 3.3312 - val_acc: 0.7826\n",
      "Epoch 4/20\n",
      "1443/1443 [==============================] - 13s 9ms/step - loss: 2.7881 - acc: 0.5329 - val_loss: 1.5842 - val_acc: 0.6087\n",
      "Epoch 5/20\n",
      "1443/1443 [==============================] - 14s 10ms/step - loss: 2.1666 - acc: 0.5447 - val_loss: 1.4511 - val_acc: 0.7888\n",
      "Epoch 6/20\n",
      "1443/1443 [==============================] - 14s 9ms/step - loss: 1.9781 - acc: 0.5918 - val_loss: 1.5978 - val_acc: 0.7702\n",
      "Epoch 7/20\n",
      "1443/1443 [==============================] - 13s 9ms/step - loss: 1.9544 - acc: 0.5773 - val_loss: 1.4415 - val_acc: 0.7578\n",
      "Epoch 8/20\n",
      "1443/1443 [==============================] - 13s 9ms/step - loss: 1.8003 - acc: 0.5981 - val_loss: 7.3983 - val_acc: 0.2857\n",
      "Epoch 00008: early stopping\n"
     ]
    }
   ],
   "source": [
    "inc_history2 = inc_ft_model2.fit(X_train, Y_train, batch_size=10, epochs=20, validation_split=0.1,\n",
    "             callbacks=[EarlyStopping(monitor='val_acc', patience=3, verbose=1)])"
   ]
  },
  {
   "cell_type": "code",
   "execution_count": 70,
   "metadata": {},
   "outputs": [
    {
     "data": {
      "image/png": "[encoded data removed]",
      "text/plain": [
       "<matplotlib.figure.Figure at 0x7f181721d748>"
      ]
     },
     "metadata": {},
     "output_type": "display_data"
    }
   ],
   "source": [
    "plot_training(inc_history2)"
   ]
  },
  {
   "cell_type": "markdown",
   "metadata": {},
   "source": [
    "### prediction "
   ]
  },
  {
   "cell_type": "code",
   "execution_count": 57,
   "metadata": {
    "collapsed": true
   },
   "outputs": [],
   "source": [
    "imgs = []\n",
    "for i, row in test.iterrows():\n",
    "    #make 75x75 image\n",
    "    band_1 = np.array(row['band_1']).reshape(75, 75)\n",
    "    band_2 = np.array(row['band_2']).reshape(75, 75)\n",
    "    band_3 = band_1 + band_2 # plus since log(x*y) = log(x) + log(y)\n",
    "\n",
    "    # Rescale\n",
    "    a = (band_1 - band_1.mean()) / (band_1.max() - band_1.min())\n",
    "    b = (band_2 - band_2.mean()) / (band_2.max() - band_2.min())\n",
    "    c = (band_3 - band_3.mean()) / (band_3.max() - band_3.min())\n",
    "\n",
    "    imgs.append(np.dstack((a, b, c)))\n",
    "    \n",
    "Xtest = np.array(imgs)"
   ]
  },
  {
   "cell_type": "code",
   "execution_count": 26,
   "metadata": {
    "collapsed": true
   },
   "outputs": [],
   "source": [
    "preds = inctop_model.predict(inc_test_bf)"
   ]
  },
  {
   "cell_type": "code",
   "execution_count": 27,
   "metadata": {
    "collapsed": true
   },
   "outputs": [],
   "source": [
    "submission = pd.DataFrame()\n",
    "submission['id']=test['id']\n",
    "submission['is_iceberg']=preds\n",
    "submission.to_csv('sub.csv', index=False)"
   ]
  }
 ],
 "metadata": {
  "kernelspec": {
   "display_name": "Python [conda env:ML]",
   "language": "python",
   "name": "conda-env-ML-py"
  },
  "language_info": {
   "codemirror_mode": {
    "name": "ipython",
    "version": 3
   },
   "file_extension": ".py",
   "mimetype": "text/x-python",
   "name": "python",
   "nbconvert_exporter": "python",
   "pygments_lexer": "ipython3",
   "version": "3.5.4"
  }
 },
 "nbformat": 4,
 "nbformat_minor": 2
}
